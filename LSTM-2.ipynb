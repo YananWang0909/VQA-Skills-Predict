{
  "cells": [
    {
      "metadata": {
        "trusted": false
      },
      "cell_type": "code",
      "source": "#In the prototype, we focus on \"text recognition\" only \nimport pandas as pd\nimport numpy as np\nfrom sklearn.neighbors import KNeighborsClassifier\nfrom sklearn.naive_bayes import GaussianNB\nfrom sklearn.tree import DecisionTreeClassifier\nfrom sklearn.svm import SVC\nfrom sklearn.model_selection import cross_val_score\nfrom sklearn.model_selection import KFold\nkfold=KFold(n_splits=10)",
      "execution_count": 1,
      "outputs": []
    },
    {
      "metadata": {
        "trusted": false
      },
      "cell_type": "code",
      "source": "# reading in the CSV files as Pandas dataframes\ndf_train_ori = pd.read_csv('vizwiz_skill_typ_train.csv', skipinitialspace = True, engine='python')\ndf_val_ori = pd.read_csv('vizwiz_skill_typ_val.csv', skipinitialspace = True, engine='python')\n# The structure of VizWiz file\ndf_train_ori.head(3)\ndf_val_ori.head(3)",
      "execution_count": 14,
      "outputs": [
        {
          "data": {
            "text/html": "<div>\n<style scoped>\n    .dataframe tbody tr th:only-of-type {\n        vertical-align: middle;\n    }\n\n    .dataframe tbody tr th {\n        vertical-align: top;\n    }\n\n    .dataframe thead th {\n        text-align: right;\n    }\n</style>\n<table border=\"1\" class=\"dataframe\">\n  <thead>\n    <tr style=\"text-align: right;\">\n      <th></th>\n      <th>qid</th>\n      <th>IMG</th>\n      <th>QSN</th>\n      <th>ANS_TYP</th>\n      <th>TXT</th>\n      <th>OBJ</th>\n      <th>COL</th>\n      <th>CNT</th>\n      <th>OTH</th>\n      <th>ANS1</th>\n      <th>ANS2</th>\n      <th>ANS3</th>\n      <th>ANS4</th>\n      <th>ANS5</th>\n      <th>ANS6</th>\n      <th>ANS7</th>\n      <th>ANS8</th>\n      <th>ANS9</th>\n      <th>ANS10</th>\n    </tr>\n  </thead>\n  <tbody>\n    <tr>\n      <th>0</th>\n      <td>VizWiz_val_000000028002.jpg</td>\n      <td>VizWiz_val_000000028002.jpg</td>\n      <td>What is this?</td>\n      <td>other</td>\n      <td>0</td>\n      <td>1</td>\n      <td>0</td>\n      <td>0</td>\n      <td>0</td>\n      <td>unsuitable</td>\n      <td>unanswerable</td>\n      <td>unanswerable</td>\n      <td>paper</td>\n      <td>person</td>\n      <td>women holding arm up</td>\n      <td>persons chest</td>\n      <td>person</td>\n      <td>t shirt</td>\n      <td>t shirt</td>\n    </tr>\n    <tr>\n      <th>1</th>\n      <td>VizWiz_val_000000028003.jpg</td>\n      <td>VizWiz_val_000000028003.jpg</td>\n      <td>What is this?</td>\n      <td>unanswerable</td>\n      <td>1</td>\n      <td>1</td>\n      <td>0</td>\n      <td>0</td>\n      <td>0</td>\n      <td>unsuitable</td>\n      <td>lotion</td>\n      <td>unanswerable</td>\n      <td>unsuitable</td>\n      <td>body lotion</td>\n      <td>lotion</td>\n      <td>gold tube</td>\n      <td>unsuitable</td>\n      <td>make up</td>\n      <td>lotion</td>\n    </tr>\n    <tr>\n      <th>2</th>\n      <td>VizWiz_val_000000028005.jpg</td>\n      <td>VizWiz_val_000000028005.jpg</td>\n      <td>What is this?</td>\n      <td>other</td>\n      <td>0</td>\n      <td>1</td>\n      <td>0</td>\n      <td>0</td>\n      <td>0</td>\n      <td>coke bottle cap</td>\n      <td>shirt pin</td>\n      <td>coca cola coin</td>\n      <td>bottle cap</td>\n      <td>coca cola pin</td>\n      <td>bottle cap</td>\n      <td>coca cola 1940s metal disk</td>\n      <td>cocoa cola 1940 coin</td>\n      <td>coca cola metal cap</td>\n      <td>not clare</td>\n    </tr>\n  </tbody>\n</table>\n</div>",
            "text/plain": "                           qid                          IMG            QSN  \\\n0  VizWiz_val_000000028002.jpg  VizWiz_val_000000028002.jpg  What is this?   \n1  VizWiz_val_000000028003.jpg  VizWiz_val_000000028003.jpg  What is this?   \n2  VizWiz_val_000000028005.jpg  VizWiz_val_000000028005.jpg  What is this?   \n\n        ANS_TYP  TXT  OBJ  COL  CNT  OTH             ANS1          ANS2  \\\n0         other    0    1    0    0    0       unsuitable  unanswerable   \n1  unanswerable    1    1    0    0    0       unsuitable        lotion   \n2         other    0    1    0    0    0  coke bottle cap     shirt pin   \n\n             ANS3        ANS4           ANS5                  ANS6  \\\n0    unanswerable       paper         person  women holding arm up   \n1    unanswerable  unsuitable    body lotion                lotion   \n2  coca cola coin  bottle cap  coca cola pin            bottle cap   \n\n                         ANS7                  ANS8                 ANS9  \\\n0               persons chest                person              t shirt   \n1                   gold tube            unsuitable              make up   \n2  coca cola 1940s metal disk  cocoa cola 1940 coin  coca cola metal cap   \n\n       ANS10  \n0    t shirt  \n1     lotion  \n2  not clare  "
          },
          "execution_count": 14,
          "metadata": {},
          "output_type": "execute_result"
        }
      ]
    },
    {
      "metadata": {
        "trusted": false
      },
      "cell_type": "code",
      "source": "# reading in the CSV files as Pandas dataframes\napi_feature_train = pd.read_csv('api_features_train.csv', skipinitialspace = True, engine='python')\napi_feature_val = pd.read_csv('api_features_val.csv', skipinitialspace = True, engine='python')\nnn_feature_train = pd.read_csv('nn_features_train.csv', skipinitialspace = True, engine='python')\nnn_feature_val = pd.read_csv('nn_features_val.csv', skipinitialspace = True, engine='python')\n# The structure of VizWiz file\napi_feature_train.head(3)",
      "execution_count": 9,
      "outputs": [
        {
          "data": {
            "text/html": "<div>\n<style scoped>\n    .dataframe tbody tr th:only-of-type {\n        vertical-align: middle;\n    }\n\n    .dataframe tbody tr th {\n        vertical-align: top;\n    }\n\n    .dataframe thead th {\n        text-align: right;\n    }\n</style>\n<table border=\"1\" class=\"dataframe\">\n  <thead>\n    <tr style=\"text-align: right;\">\n      <th></th>\n      <th>qid</th>\n      <th>adult</th>\n      <th>categories</th>\n      <th>descriptions</th>\n      <th>tags</th>\n    </tr>\n  </thead>\n  <tbody>\n    <tr>\n      <th>0</th>\n      <td>VizWiz_train_000000000000.jpg</td>\n      <td>False</td>\n      <td>others_</td>\n      <td>a bottle of wine on a table</td>\n      <td>'bottle'  'indoor'  'table'  'sitting'  'wine'...</td>\n    </tr>\n    <tr>\n      <th>1</th>\n      <td>VizWiz_train_000000000001.jpg</td>\n      <td>False</td>\n      <td>others_</td>\n      <td>a kitchen with a sink and a microwave</td>\n      <td>'indoor'  'cabinet'  'kitchen'  'small'  'refr...</td>\n    </tr>\n    <tr>\n      <th>2</th>\n      <td>VizWiz_train_000000000002.jpg</td>\n      <td>False</td>\n      <td>others_</td>\n      <td>a can of soda</td>\n      <td>'bottle'  'sitting'  'table'  'orange'  'layin...</td>\n    </tr>\n  </tbody>\n</table>\n</div>",
            "text/plain": "                             qid  adult categories  \\\n0  VizWiz_train_000000000000.jpg  False    others_   \n1  VizWiz_train_000000000001.jpg  False    others_   \n2  VizWiz_train_000000000002.jpg  False    others_   \n\n                            descriptions  \\\n0            a bottle of wine on a table   \n1  a kitchen with a sink and a microwave   \n2                          a can of soda   \n\n                                                tags  \n0  'bottle'  'indoor'  'table'  'sitting'  'wine'...  \n1  'indoor'  'cabinet'  'kitchen'  'small'  'refr...  \n2  'bottle'  'sitting'  'table'  'orange'  'layin...  "
          },
          "execution_count": 9,
          "metadata": {},
          "output_type": "execute_result"
        }
      ]
    },
    {
      "metadata": {
        "trusted": false
      },
      "cell_type": "code",
      "source": "# The structure of VizWiz file\nnn_feature_train.head(3)",
      "execution_count": 10,
      "outputs": [
        {
          "data": {
            "text/html": "<div>\n<style scoped>\n    .dataframe tbody tr th:only-of-type {\n        vertical-align: middle;\n    }\n\n    .dataframe tbody tr th {\n        vertical-align: top;\n    }\n\n    .dataframe thead th {\n        text-align: right;\n    }\n</style>\n<table border=\"1\" class=\"dataframe\">\n  <thead>\n    <tr style=\"text-align: right;\">\n      <th></th>\n      <th>qid</th>\n      <th>vgg_tags alexnet_tags</th>\n      <th>txt</th>\n      <th>col</th>\n    </tr>\n  </thead>\n  <tbody>\n    <tr>\n      <th>0</th>\n      <td>VizWiz_train_000000000000.jpg</td>\n      <td>perfume  essence packet</td>\n      <td>1</td>\n      <td>0</td>\n    </tr>\n    <tr>\n      <th>1</th>\n      <td>VizWiz_train_000000000001.jpg</td>\n      <td>espresso maker lighter  light  igniter  ignitor</td>\n      <td>1</td>\n      <td>0</td>\n    </tr>\n    <tr>\n      <th>2</th>\n      <td>VizWiz_train_000000000002.jpg</td>\n      <td>pill bottle water bottle</td>\n      <td>1</td>\n      <td>0</td>\n    </tr>\n  </tbody>\n</table>\n</div>",
            "text/plain": "                             qid  \\\n0  VizWiz_train_000000000000.jpg   \n1  VizWiz_train_000000000001.jpg   \n2  VizWiz_train_000000000002.jpg   \n\n                             vgg_tags alexnet_tags txt col  \n0                          perfume  essence packet   1   0  \n1  espresso maker lighter  light  igniter  ignitor   1   0  \n2                         pill bottle water bottle   1   0  "
          },
          "execution_count": 10,
          "metadata": {},
          "output_type": "execute_result"
        }
      ]
    },
    {
      "metadata": {
        "trusted": false
      },
      "cell_type": "code",
      "source": "df_train = pd.merge(df_train_ori, api_feature_train, how='left', on='qid')\ndf_train = pd.merge(df_train, nn_feature_train, how='left', on='qid')\ndf_train.head(3)",
      "execution_count": 12,
      "outputs": [
        {
          "data": {
            "text/html": "<div>\n<style scoped>\n    .dataframe tbody tr th:only-of-type {\n        vertical-align: middle;\n    }\n\n    .dataframe tbody tr th {\n        vertical-align: top;\n    }\n\n    .dataframe thead th {\n        text-align: right;\n    }\n</style>\n<table border=\"1\" class=\"dataframe\">\n  <thead>\n    <tr style=\"text-align: right;\">\n      <th></th>\n      <th>qid</th>\n      <th>IMG</th>\n      <th>QSN</th>\n      <th>ANS_TYP</th>\n      <th>TXT</th>\n      <th>OBJ</th>\n      <th>COL</th>\n      <th>CNT</th>\n      <th>OTH</th>\n      <th>ANS1</th>\n      <th>...</th>\n      <th>ANS8</th>\n      <th>ANS9</th>\n      <th>ANS10</th>\n      <th>adult</th>\n      <th>categories</th>\n      <th>descriptions</th>\n      <th>tags</th>\n      <th>vgg_tags alexnet_tags</th>\n      <th>txt</th>\n      <th>col</th>\n    </tr>\n  </thead>\n  <tbody>\n    <tr>\n      <th>0</th>\n      <td>VizWiz_train_000000000000.jpg</td>\n      <td>VizWiz_train_000000000000.jpg</td>\n      <td>What's the name of this product?</td>\n      <td>other</td>\n      <td>1</td>\n      <td>1</td>\n      <td>0</td>\n      <td>0</td>\n      <td>0</td>\n      <td>basil leaves</td>\n      <td>...</td>\n      <td>basil leaves</td>\n      <td>basil leaves</td>\n      <td>basil</td>\n      <td>False</td>\n      <td>others_</td>\n      <td>a bottle of wine on a table</td>\n      <td>'bottle'  'indoor'  'table'  'sitting'  'wine'...</td>\n      <td>perfume  essence packet</td>\n      <td>1</td>\n      <td>0</td>\n    </tr>\n    <tr>\n      <th>1</th>\n      <td>VizWiz_train_000000000000.jpg</td>\n      <td>VizWiz_train_000000000000.jpg</td>\n      <td>What's the name of this product?</td>\n      <td>other</td>\n      <td>1</td>\n      <td>1</td>\n      <td>0</td>\n      <td>0</td>\n      <td>0</td>\n      <td>basil leaves</td>\n      <td>...</td>\n      <td>basil leaves</td>\n      <td>basil leaves</td>\n      <td>basil</td>\n      <td>False</td>\n      <td>others_</td>\n      <td>a bottle of wine on a table</td>\n      <td>'bottle'  'indoor'  'table'  'sitting'  'wine'...</td>\n      <td>lotion packet</td>\n      <td>1</td>\n      <td>0</td>\n    </tr>\n    <tr>\n      <th>2</th>\n      <td>VizWiz_train_000000000001.jpg</td>\n      <td>VizWiz_train_000000000001.jpg</td>\n      <td>Can you tell me what is in this can please?</td>\n      <td>other</td>\n      <td>1</td>\n      <td>1</td>\n      <td>0</td>\n      <td>0</td>\n      <td>0</td>\n      <td>soda</td>\n      <td>...</td>\n      <td>coke 0</td>\n      <td>coca cola</td>\n      <td>coke</td>\n      <td>False</td>\n      <td>others_</td>\n      <td>a kitchen with a sink and a microwave</td>\n      <td>'indoor'  'cabinet'  'kitchen'  'small'  'refr...</td>\n      <td>espresso maker lighter  light  igniter  ignitor</td>\n      <td>1</td>\n      <td>0</td>\n    </tr>\n  </tbody>\n</table>\n<p>3 rows × 26 columns</p>\n</div>",
            "text/plain": "                             qid                            IMG  \\\n0  VizWiz_train_000000000000.jpg  VizWiz_train_000000000000.jpg   \n1  VizWiz_train_000000000000.jpg  VizWiz_train_000000000000.jpg   \n2  VizWiz_train_000000000001.jpg  VizWiz_train_000000000001.jpg   \n\n                                           QSN ANS_TYP  TXT  OBJ  COL  CNT  \\\n0             What's the name of this product?   other    1    1    0    0   \n1             What's the name of this product?   other    1    1    0    0   \n2  Can you tell me what is in this can please?   other    1    1    0    0   \n\n   OTH          ANS1 ...          ANS8          ANS9  ANS10  adult categories  \\\n0    0  basil leaves ...  basil leaves  basil leaves  basil  False    others_   \n1    0  basil leaves ...  basil leaves  basil leaves  basil  False    others_   \n2    0          soda ...        coke 0     coca cola   coke  False    others_   \n\n                            descriptions  \\\n0            a bottle of wine on a table   \n1            a bottle of wine on a table   \n2  a kitchen with a sink and a microwave   \n\n                                                tags  \\\n0  'bottle'  'indoor'  'table'  'sitting'  'wine'...   \n1  'bottle'  'indoor'  'table'  'sitting'  'wine'...   \n2  'indoor'  'cabinet'  'kitchen'  'small'  'refr...   \n\n                             vgg_tags alexnet_tags txt col  \n0                          perfume  essence packet   1   0  \n1                                    lotion packet   1   0  \n2  espresso maker lighter  light  igniter  ignitor   1   0  \n\n[3 rows x 26 columns]"
          },
          "execution_count": 12,
          "metadata": {},
          "output_type": "execute_result"
        }
      ]
    },
    {
      "metadata": {
        "trusted": false
      },
      "cell_type": "code",
      "source": "df_val = pd.merge(df_val_ori, api_feature_val, how='left', on='qid')\ndf_val = pd.merge(df_val, nn_feature_val, how='left', on='qid')\ndf_val.head(3)",
      "execution_count": 15,
      "outputs": [
        {
          "data": {
            "text/html": "<div>\n<style scoped>\n    .dataframe tbody tr th:only-of-type {\n        vertical-align: middle;\n    }\n\n    .dataframe tbody tr th {\n        vertical-align: top;\n    }\n\n    .dataframe thead th {\n        text-align: right;\n    }\n</style>\n<table border=\"1\" class=\"dataframe\">\n  <thead>\n    <tr style=\"text-align: right;\">\n      <th></th>\n      <th>qid</th>\n      <th>IMG</th>\n      <th>QSN</th>\n      <th>ANS_TYP</th>\n      <th>TXT</th>\n      <th>OBJ</th>\n      <th>COL</th>\n      <th>CNT</th>\n      <th>OTH</th>\n      <th>ANS1</th>\n      <th>...</th>\n      <th>ANS10</th>\n      <th>adult</th>\n      <th>categories</th>\n      <th>descriptions</th>\n      <th>tags</th>\n      <th>txt_x</th>\n      <th>col_x</th>\n      <th>vgg_tags alexnet_tags</th>\n      <th>txt_y</th>\n      <th>col_y</th>\n    </tr>\n  </thead>\n  <tbody>\n    <tr>\n      <th>0</th>\n      <td>VizWiz_val_000000028002.jpg</td>\n      <td>VizWiz_val_000000028002.jpg</td>\n      <td>What is this?</td>\n      <td>other</td>\n      <td>0</td>\n      <td>1</td>\n      <td>0</td>\n      <td>0</td>\n      <td>0</td>\n      <td>unsuitable</td>\n      <td>...</td>\n      <td>t shirt</td>\n      <td>False</td>\n      <td>others_</td>\n      <td>None</td>\n      <td>'person'  'indoor'  'man'  'holding'  'red'  '...</td>\n      <td>1</td>\n      <td>0</td>\n      <td>seat belt  seatbelt seat belt  seatbelt</td>\n      <td>0</td>\n      <td>0</td>\n    </tr>\n    <tr>\n      <th>1</th>\n      <td>VizWiz_val_000000028003.jpg</td>\n      <td>VizWiz_val_000000028003.jpg</td>\n      <td>What is this?</td>\n      <td>unanswerable</td>\n      <td>1</td>\n      <td>1</td>\n      <td>0</td>\n      <td>0</td>\n      <td>0</td>\n      <td>unsuitable</td>\n      <td>...</td>\n      <td>lotion</td>\n      <td>False</td>\n      <td>abstract_</td>\n      <td>a close up of a yellow wall</td>\n      <td>'indoor'  'sitting'  'small'  'yellow'  'white'</td>\n      <td>1</td>\n      <td>0</td>\n      <td>fountain pen fountain pen</td>\n      <td>1</td>\n      <td>0</td>\n    </tr>\n    <tr>\n      <th>2</th>\n      <td>VizWiz_val_000000028005.jpg</td>\n      <td>VizWiz_val_000000028005.jpg</td>\n      <td>What is this?</td>\n      <td>other</td>\n      <td>0</td>\n      <td>1</td>\n      <td>0</td>\n      <td>0</td>\n      <td>0</td>\n      <td>coke bottle cap</td>\n      <td>...</td>\n      <td>not clare</td>\n      <td>False</td>\n      <td>others_</td>\n      <td>None</td>\n      <td>'sitting'  'phone'  'food'  'white'</td>\n      <td>1</td>\n      <td>0</td>\n      <td>cassette iPod</td>\n      <td>0</td>\n      <td>0</td>\n    </tr>\n  </tbody>\n</table>\n<p>3 rows × 28 columns</p>\n</div>",
            "text/plain": "                           qid                          IMG            QSN  \\\n0  VizWiz_val_000000028002.jpg  VizWiz_val_000000028002.jpg  What is this?   \n1  VizWiz_val_000000028003.jpg  VizWiz_val_000000028003.jpg  What is this?   \n2  VizWiz_val_000000028005.jpg  VizWiz_val_000000028005.jpg  What is this?   \n\n        ANS_TYP  TXT  OBJ  COL  CNT  OTH             ANS1  ...       ANS10  \\\n0         other    0    1    0    0    0       unsuitable  ...     t shirt   \n1  unanswerable    1    1    0    0    0       unsuitable  ...      lotion   \n2         other    0    1    0    0    0  coke bottle cap  ...   not clare   \n\n   adult categories                 descriptions  \\\n0  False    others_                         None   \n1  False  abstract_  a close up of a yellow wall   \n2  False    others_                         None   \n\n                                                tags txt_x col_x  \\\n0  'person'  'indoor'  'man'  'holding'  'red'  '...     1     0   \n1    'indoor'  'sitting'  'small'  'yellow'  'white'     1     0   \n2                'sitting'  'phone'  'food'  'white'     1     0   \n\n                     vgg_tags alexnet_tags txt_y col_y  \n0  seat belt  seatbelt seat belt  seatbelt     0     0  \n1                fountain pen fountain pen     1     0  \n2                            cassette iPod     0     0  \n\n[3 rows x 28 columns]"
          },
          "execution_count": 15,
          "metadata": {},
          "output_type": "execute_result"
        }
      ]
    },
    {
      "metadata": {
        "trusted": false
      },
      "cell_type": "code",
      "source": "#merge text\ndf_train[\"allText1\"] = df_train[\"QSN\"].map(str) + df_train[\"tags\"].map(str)\ndf_train[\"allText2\"] = df_train[\"QSN\"].map(str) + df_train[\"vgg_tags alexnet_tags\"].map(str)\ndf_train[\"allText3\"] = df_train[\"QSN\"].map(str) + df_train[\"descriptions\"].map(str)\ndf_train.head(3)\ndf_val[\"allText1\"] = df_val[\"QSN\"].map(str) + df_val[\"tags\"].map(str)\ndf_val[\"allText2\"] = df_val[\"QSN\"].map(str) + df_val[\"vgg_tags alexnet_tags\"].map(str)\ndf_val[\"allText3\"] = df_val[\"QSN\"].map(str) + df_val[\"descriptions\"].map(str)\ndf_val.head(3)",
      "execution_count": 35,
      "outputs": [
        {
          "data": {
            "text/html": "<div>\n<style scoped>\n    .dataframe tbody tr th:only-of-type {\n        vertical-align: middle;\n    }\n\n    .dataframe tbody tr th {\n        vertical-align: top;\n    }\n\n    .dataframe thead th {\n        text-align: right;\n    }\n</style>\n<table border=\"1\" class=\"dataframe\">\n  <thead>\n    <tr style=\"text-align: right;\">\n      <th></th>\n      <th>qid</th>\n      <th>IMG</th>\n      <th>QSN</th>\n      <th>ANS_TYP</th>\n      <th>TXT</th>\n      <th>OBJ</th>\n      <th>COL</th>\n      <th>CNT</th>\n      <th>OTH</th>\n      <th>ANS1</th>\n      <th>...</th>\n      <th>descriptions</th>\n      <th>tags</th>\n      <th>txt_x</th>\n      <th>col_x</th>\n      <th>vgg_tags alexnet_tags</th>\n      <th>txt_y</th>\n      <th>col_y</th>\n      <th>allText1</th>\n      <th>allText2</th>\n      <th>allText3</th>\n    </tr>\n  </thead>\n  <tbody>\n    <tr>\n      <th>0</th>\n      <td>VizWiz_val_000000028002.jpg</td>\n      <td>VizWiz_val_000000028002.jpg</td>\n      <td>What is this?</td>\n      <td>other</td>\n      <td>0</td>\n      <td>1</td>\n      <td>0</td>\n      <td>0</td>\n      <td>0</td>\n      <td>unsuitable</td>\n      <td>...</td>\n      <td>None</td>\n      <td>'person'  'indoor'  'man'  'holding'  'red'  '...</td>\n      <td>1</td>\n      <td>0</td>\n      <td>seat belt  seatbelt seat belt  seatbelt</td>\n      <td>0</td>\n      <td>0</td>\n      <td>What is this?'person'  'indoor'  'man'  'holdi...</td>\n      <td>What is this?seat belt  seatbelt seat belt  se...</td>\n      <td>What is this?None</td>\n    </tr>\n    <tr>\n      <th>1</th>\n      <td>VizWiz_val_000000028003.jpg</td>\n      <td>VizWiz_val_000000028003.jpg</td>\n      <td>What is this?</td>\n      <td>unanswerable</td>\n      <td>1</td>\n      <td>1</td>\n      <td>0</td>\n      <td>0</td>\n      <td>0</td>\n      <td>unsuitable</td>\n      <td>...</td>\n      <td>a close up of a yellow wall</td>\n      <td>'indoor'  'sitting'  'small'  'yellow'  'white'</td>\n      <td>1</td>\n      <td>0</td>\n      <td>fountain pen fountain pen</td>\n      <td>1</td>\n      <td>0</td>\n      <td>What is this?'indoor'  'sitting'  'small'  'ye...</td>\n      <td>What is this?fountain pen fountain pen</td>\n      <td>What is this?a close up of a yellow wall</td>\n    </tr>\n    <tr>\n      <th>2</th>\n      <td>VizWiz_val_000000028005.jpg</td>\n      <td>VizWiz_val_000000028005.jpg</td>\n      <td>What is this?</td>\n      <td>other</td>\n      <td>0</td>\n      <td>1</td>\n      <td>0</td>\n      <td>0</td>\n      <td>0</td>\n      <td>coke bottle cap</td>\n      <td>...</td>\n      <td>None</td>\n      <td>'sitting'  'phone'  'food'  'white'</td>\n      <td>1</td>\n      <td>0</td>\n      <td>cassette iPod</td>\n      <td>0</td>\n      <td>0</td>\n      <td>What is this?'sitting'  'phone'  'food'  'white'</td>\n      <td>What is this?cassette iPod</td>\n      <td>What is this?None</td>\n    </tr>\n  </tbody>\n</table>\n<p>3 rows × 31 columns</p>\n</div>",
            "text/plain": "                           qid                          IMG            QSN  \\\n0  VizWiz_val_000000028002.jpg  VizWiz_val_000000028002.jpg  What is this?   \n1  VizWiz_val_000000028003.jpg  VizWiz_val_000000028003.jpg  What is this?   \n2  VizWiz_val_000000028005.jpg  VizWiz_val_000000028005.jpg  What is this?   \n\n        ANS_TYP  TXT  OBJ  COL  CNT  OTH             ANS1  \\\n0         other    0    1    0    0    0       unsuitable   \n1  unanswerable    1    1    0    0    0       unsuitable   \n2         other    0    1    0    0    0  coke bottle cap   \n\n                     ...                                    descriptions  \\\n0                    ...                                            None   \n1                    ...                     a close up of a yellow wall   \n2                    ...                                            None   \n\n                                                tags txt_x col_x  \\\n0  'person'  'indoor'  'man'  'holding'  'red'  '...     1     0   \n1    'indoor'  'sitting'  'small'  'yellow'  'white'     1     0   \n2                'sitting'  'phone'  'food'  'white'     1     0   \n\n                     vgg_tags alexnet_tags txt_y col_y  \\\n0  seat belt  seatbelt seat belt  seatbelt     0     0   \n1                fountain pen fountain pen     1     0   \n2                            cassette iPod     0     0   \n\n                                            allText1  \\\n0  What is this?'person'  'indoor'  'man'  'holdi...   \n1  What is this?'indoor'  'sitting'  'small'  'ye...   \n2   What is this?'sitting'  'phone'  'food'  'white'   \n\n                                            allText2  \\\n0  What is this?seat belt  seatbelt seat belt  se...   \n1             What is this?fountain pen fountain pen   \n2                         What is this?cassette iPod   \n\n                                   allText3  \n0                         What is this?None  \n1  What is this?a close up of a yellow wall  \n2                         What is this?None  \n\n[3 rows x 31 columns]"
          },
          "execution_count": 35,
          "metadata": {},
          "output_type": "execute_result"
        }
      ]
    },
    {
      "metadata": {
        "trusted": false
      },
      "cell_type": "code",
      "source": "#create X and Ys\nques_train=df_train[\"allText3\"].values\ntxt_train=df_train[\"TXT\"].values\ncol_train=df_train[\"COL\"].values\n\nques_val=df_val[\"allText3\"].values\ntxt_val=df_val[\"TXT\"].values\ncol_val=df_val[\"COL\"].values\n",
      "execution_count": 93,
      "outputs": []
    },
    {
      "metadata": {
        "trusted": false
      },
      "cell_type": "code",
      "source": "print(ques_train)",
      "execution_count": 94,
      "outputs": [
        {
          "name": "stdout",
          "output_type": "stream",
          "text": "[\"What's the name of this product?a bottle of wine on a table\"\n \"What's the name of this product?a bottle of wine on a table\"\n 'Can you tell me what is in this can please?a kitchen with a sink and a microwave'\n ... 'What is the name of this?a screen shot of a computer monitor'\n 'What is this?a person in a blue shirt'\n 'What is this ?a black computer mouse on a table']\n"
        }
      ]
    },
    {
      "metadata": {
        "trusted": false
      },
      "cell_type": "code",
      "source": "#Use LSTM to predict\nimport gzip\nimport numpy as np\nimport os\nimport pandas as pd\nimport pickle\nimport requests\nimport time\n\nos.environ['KERAS_BACKEND']='cntk'\nfrom keras.preprocessing import sequence\nfrom keras.preprocessing.text import Tokenizer, text_to_word_sequence\nfrom keras.models import Sequential, load_model\nfrom keras import regularizers\nfrom keras.optimizers import SGD\nfrom keras.layers import Dense, Dropout, Embedding, LSTM, Bidirectional\nfrom keras.callbacks import History, CSVLogger\nfrom keras.utils import to_categorical",
      "execution_count": 95,
      "outputs": []
    },
    {
      "metadata": {
        "trusted": false
      },
      "cell_type": "code",
      "source": "MAX_DOC_LEN = 40\nVOCAB_SIZE = 3000\nEMBEDDING_DIM = 100",
      "execution_count": 96,
      "outputs": []
    },
    {
      "metadata": {
        "trusted": false
      },
      "cell_type": "code",
      "source": "# tokenize, create seqs, pad\ntok = Tokenizer(num_words=VOCAB_SIZE, lower=True, split=\" \")\ntok.fit_on_texts(ques_train)\ntrain_seq = tok.texts_to_sequences(ques_train)\ntrain_seq = sequence.pad_sequences(train_seq, maxlen=MAX_DOC_LEN)\nval_seq = tok.texts_to_sequences(ques_val)\nval_seq = sequence.pad_sequences(val_seq, maxlen=MAX_DOC_LEN)",
      "execution_count": 97,
      "outputs": []
    },
    {
      "metadata": {
        "trusted": false
      },
      "cell_type": "code",
      "source": "labels = to_categorical(np.asarray(col_train))\nlabels = labels.astype('float32')\nprint('Number of reviews by class in training set')\nprint(labels.sum(axis=0))\nn_classes = labels.shape[1]",
      "execution_count": 98,
      "outputs": [
        {
          "name": "stdout",
          "output_type": "stream",
          "text": "Number of reviews by class in training set\n[16766. 10205.]\n"
        }
      ]
    },
    {
      "metadata": {
        "trusted": false
      },
      "cell_type": "code",
      "source": "import nltk \n\nnltk.download('punkt')\n\nsent_lst = []\n\nfor doc in ques_train:\n    sentences = nltk.tokenize.sent_tokenize(doc)\n    for sent in sentences:\n        word_lst = [w for w in nltk.tokenize.word_tokenize(sent) if w.isalnum()]\n        sent_lst.append(word_lst)",
      "execution_count": 99,
      "outputs": [
        {
          "name": "stdout",
          "output_type": "stream",
          "text": "[nltk_data] Downloading package punkt to /home/yanan/nltk_data...\n[nltk_data]   Package punkt is already up-to-date!\n"
        }
      ]
    },
    {
      "metadata": {
        "trusted": false
      },
      "cell_type": "code",
      "source": "import gensim, logging\n\nlogging.basicConfig(format='%(asctime)s : %(levelname)s : %(message)s', level=logging.INFO)\n# use skip-gram\nword2vec_model = gensim.models.Word2Vec(sentences=sent_lst, min_count=6, size=EMBEDDING_DIM, sg=1, workers=os.cpu_count())",
      "execution_count": 100,
      "outputs": [
        {
          "name": "stderr",
          "output_type": "stream",
          "text": "2018-12-03 10:18:22,040 : INFO : collecting all words and their counts\n2018-12-03 10:18:22,041 : INFO : PROGRESS: at sentence #0, processed 0 words, keeping 0 word types\n2018-12-03 10:18:22,060 : INFO : PROGRESS: at sentence #10000, processed 100370 words, keeping 1877 word types\n2018-12-03 10:18:22,078 : INFO : PROGRESS: at sentence #20000, processed 199094 words, keeping 2625 word types\n2018-12-03 10:18:22,096 : INFO : PROGRESS: at sentence #30000, processed 298253 words, keeping 3264 word types\n2018-12-03 10:18:22,101 : INFO : collected 3467 word types from a corpus of 318321 raw words and 32031 sentences\n2018-12-03 10:18:22,101 : INFO : Loading a fresh vocabulary\n2018-12-03 10:18:22,106 : INFO : effective_min_count=6 retains 1325 unique words (38% of original 3467, drops 2142)\n2018-12-03 10:18:22,106 : INFO : effective_min_count=6 leaves 313308 word corpus (98% of original 318321, drops 5013)\n2018-12-03 10:18:22,110 : INFO : deleting the raw counts dictionary of 3467 items\n2018-12-03 10:18:22,111 : INFO : sample=0.001 downsamples 54 most-common words\n2018-12-03 10:18:22,111 : INFO : downsampling leaves estimated 143584 word corpus (45.8% of prior 313308)\n2018-12-03 10:18:22,115 : INFO : estimated required memory for 1325 words and 100 dimensions: 1722500 bytes\n2018-12-03 10:18:22,116 : INFO : resetting layer weights\n2018-12-03 10:18:22,134 : INFO : training model with 6 workers on 1325 vocabulary and 100 features, using sg=1 hs=0 sample=0.001 negative=5 window=5\n2018-12-03 10:18:22,289 : INFO : worker thread finished; awaiting finish of 5 more threads\n2018-12-03 10:18:22,296 : INFO : worker thread finished; awaiting finish of 4 more threads\n2018-12-03 10:18:22,299 : INFO : worker thread finished; awaiting finish of 3 more threads\n2018-12-03 10:18:22,301 : INFO : worker thread finished; awaiting finish of 2 more threads\n2018-12-03 10:18:22,302 : INFO : worker thread finished; awaiting finish of 1 more threads\n2018-12-03 10:18:22,306 : INFO : worker thread finished; awaiting finish of 0 more threads\n2018-12-03 10:18:22,307 : INFO : EPOCH - 1 : training on 318321 raw words (143456 effective words) took 0.2s, 867330 effective words/s\n2018-12-03 10:18:22,473 : INFO : worker thread finished; awaiting finish of 5 more threads\n2018-12-03 10:18:22,474 : INFO : worker thread finished; awaiting finish of 4 more threads\n2018-12-03 10:18:22,475 : INFO : worker thread finished; awaiting finish of 3 more threads\n2018-12-03 10:18:22,481 : INFO : worker thread finished; awaiting finish of 2 more threads\n2018-12-03 10:18:22,485 : INFO : worker thread finished; awaiting finish of 1 more threads\n2018-12-03 10:18:22,486 : INFO : worker thread finished; awaiting finish of 0 more threads\n2018-12-03 10:18:22,487 : INFO : EPOCH - 2 : training on 318321 raw words (143482 effective words) took 0.2s, 849728 effective words/s\n2018-12-03 10:18:22,649 : INFO : worker thread finished; awaiting finish of 5 more threads\n2018-12-03 10:18:22,652 : INFO : worker thread finished; awaiting finish of 4 more threads\n2018-12-03 10:18:22,656 : INFO : worker thread finished; awaiting finish of 3 more threads\n2018-12-03 10:18:22,658 : INFO : worker thread finished; awaiting finish of 2 more threads\n2018-12-03 10:18:22,659 : INFO : worker thread finished; awaiting finish of 1 more threads\n2018-12-03 10:18:22,661 : INFO : worker thread finished; awaiting finish of 0 more threads\n2018-12-03 10:18:22,662 : INFO : EPOCH - 3 : training on 318321 raw words (143736 effective words) took 0.2s, 878830 effective words/s\n2018-12-03 10:18:22,823 : INFO : worker thread finished; awaiting finish of 5 more threads\n2018-12-03 10:18:22,825 : INFO : worker thread finished; awaiting finish of 4 more threads\n2018-12-03 10:18:22,830 : INFO : worker thread finished; awaiting finish of 3 more threads\n2018-12-03 10:18:22,836 : INFO : worker thread finished; awaiting finish of 2 more threads\n2018-12-03 10:18:22,836 : INFO : worker thread finished; awaiting finish of 1 more threads\n2018-12-03 10:18:22,838 : INFO : worker thread finished; awaiting finish of 0 more threads\n2018-12-03 10:18:22,838 : INFO : EPOCH - 4 : training on 318321 raw words (143564 effective words) took 0.2s, 861599 effective words/s\n2018-12-03 10:18:22,998 : INFO : worker thread finished; awaiting finish of 5 more threads\n2018-12-03 10:18:23,003 : INFO : worker thread finished; awaiting finish of 4 more threads\n2018-12-03 10:18:23,004 : INFO : worker thread finished; awaiting finish of 3 more threads\n2018-12-03 10:18:23,006 : INFO : worker thread finished; awaiting finish of 2 more threads\n2018-12-03 10:18:23,007 : INFO : worker thread finished; awaiting finish of 1 more threads\n2018-12-03 10:18:23,010 : INFO : worker thread finished; awaiting finish of 0 more threads\n2018-12-03 10:18:23,011 : INFO : EPOCH - 5 : training on 318321 raw words (143348 effective words) took 0.2s, 886092 effective words/s\n2018-12-03 10:18:23,011 : INFO : training on a 1591605 raw words (717586 effective words) took 0.9s, 818317 effective words/s\n"
        }
      ]
    },
    {
      "metadata": {
        "trusted": false
      },
      "cell_type": "code",
      "source": "embeddings_index = {}\n\nfor word in word2vec_model.wv.vocab:\n    coefs = np.asarray(word2vec_model.wv[word], dtype='float32')\n    embeddings_index[word] = coefs\n\nprint('Total %s word vectors.' % len(embeddings_index))\n\n# Initial embedding\nembedding_matrix = np.zeros((VOCAB_SIZE, EMBEDDING_DIM))\n\nfor word, i in tok.word_index.items():\n    embedding_vector = embeddings_index.get(word)\n    if embedding_vector is not None and i < VOCAB_SIZE:\n        embedding_matrix[i] = embedding_vector",
      "execution_count": 101,
      "outputs": [
        {
          "name": "stdout",
          "output_type": "stream",
          "text": "Total 1325 word vectors.\n"
        }
      ]
    },
    {
      "metadata": {
        "trusted": false
      },
      "cell_type": "code",
      "source": "BATCH_SIZE = 50\nNUM_EPOCHS = 30\nLSTM_DIM = 100\nOPTIMIZER = SGD(lr=0.01, nesterov=True)",
      "execution_count": 102,
      "outputs": []
    },
    {
      "metadata": {
        "trusted": false
      },
      "cell_type": "code",
      "source": "def lstm_create_train(reg_param):\n    l2_reg = regularizers.l2(reg_param)\n\n    # model init\n    embedding_layer = Embedding(VOCAB_SIZE,\n                                EMBEDDING_DIM,\n                                input_length=MAX_DOC_LEN,\n                                trainable=True,\n                                mask_zero=False,\n                                embeddings_regularizer=l2_reg,\n                                weights=[embedding_matrix])\n\n    lstm_layer = LSTM(units=LSTM_DIM, kernel_regularizer=l2_reg)\n    dense_layer = Dense(n_classes, activation='softmax', kernel_regularizer=l2_reg)\n\n    model = Sequential()\n    model.add(embedding_layer)\n    model.add(Bidirectional(lstm_layer))\n    model.add(dense_layer)\n\n    model.compile(loss='categorical_crossentropy',\n                  optimizer=OPTIMIZER,\n                  metrics=['acc'])\n\n    fname = \"lstm\"\n    history = History()\n    csv_logger = CSVLogger('./{0}_{1}.log'.format(fname, reg_param),\n                           separator=',',\n                           append=True)\n\n    t1 = time.time()\n    # model fit\n    model.fit(train_seq,\n              labels.astype('float32'),\n              batch_size=BATCH_SIZE,\n              epochs=NUM_EPOCHS,\n              callbacks=[history, csv_logger],\n              verbose=2)\n    t2 = time.time()\n\n    # save model\n    model.save('./{0}_{1}_model.h5'.format(fname, reg_param))\n    np.savetxt('./{0}_{1}_time.txt'.format(fname, reg_param), \n               [reg_param, (t2-t1) / 3600])\n    with open('./{0}_{1}_history.txt'.format(fname, reg_param), \"w\") as res_file:\n        res_file.write(str(history.history))",
      "execution_count": 103,
      "outputs": []
    },
    {
      "metadata": {
        "trusted": false
      },
      "cell_type": "code",
      "source": "lstm_create_train(1e-7)",
      "execution_count": 104,
      "outputs": [
        {
          "name": "stdout",
          "output_type": "stream",
          "text": "Epoch 1/30\n - 22s - loss: 0.6408 - acc: 0.6310\nEpoch 2/30\n - 22s - loss: 0.5994 - acc: 0.6975\nEpoch 3/30\n - 22s - loss: 0.5683 - acc: 0.7267\nEpoch 4/30\n - 22s - loss: 0.5399 - acc: 0.7491\nEpoch 5/30\n - 22s - loss: 0.5265 - acc: 0.7591\nEpoch 6/30\n - 22s - loss: 0.5163 - acc: 0.7638\nEpoch 7/30\n - 22s - loss: 0.5068 - acc: 0.7689\nEpoch 8/30\n - 22s - loss: 0.4985 - acc: 0.7702\nEpoch 9/30\n - 22s - loss: 0.4913 - acc: 0.7733\nEpoch 10/30\n - 22s - loss: 0.4848 - acc: 0.7742\nEpoch 11/30\n - 22s - loss: 0.4824 - acc: 0.7771\nEpoch 12/30\n - 22s - loss: 0.4791 - acc: 0.7768\nEpoch 13/30\n - 21s - loss: 0.4764 - acc: 0.7777\nEpoch 14/30\n - 21s - loss: 0.4748 - acc: 0.7801\nEpoch 15/30\n - 21s - loss: 0.4731 - acc: 0.7805\nEpoch 16/30\n - 21s - loss: 0.4720 - acc: 0.7809\nEpoch 17/30\n - 21s - loss: 0.4706 - acc: 0.7825\nEpoch 18/30\n - 21s - loss: 0.4689 - acc: 0.7829\nEpoch 19/30\n - 21s - loss: 0.4685 - acc: 0.7829\nEpoch 20/30\n - 21s - loss: 0.4668 - acc: 0.7838\nEpoch 21/30\n - 22s - loss: 0.4665 - acc: 0.7843\nEpoch 22/30\n - 21s - loss: 0.4652 - acc: 0.7850\nEpoch 23/30\n - 21s - loss: 0.4640 - acc: 0.7848\nEpoch 24/30\n - 21s - loss: 0.4639 - acc: 0.7858\nEpoch 25/30\n - 22s - loss: 0.4627 - acc: 0.7865\nEpoch 26/30\n - 22s - loss: 0.4620 - acc: 0.7874\nEpoch 27/30\n - 22s - loss: 0.4611 - acc: 0.7876\nEpoch 28/30\n - 22s - loss: 0.4602 - acc: 0.7877\nEpoch 29/30\n - 22s - loss: 0.4598 - acc: 0.7885\nEpoch 30/30\n - 22s - loss: 0.4593 - acc: 0.7879\n"
        }
      ]
    },
    {
      "metadata": {
        "trusted": false
      },
      "cell_type": "code",
      "source": "from sklearn.metrics import accuracy_score, roc_auc_score, roc_curve\n\nmodel = load_model('./lstm_{0}_model.h5'.format(1e-7))\npreds = model.predict(val_seq, verbose=0)\nprint((\"Accuracy = {0} \\t AUC = {1}\".format(accuracy_score(col_val, preds.argmax(axis=1)), \n       roc_auc_score(txt_val, preds[:, 1]))))",
      "execution_count": 105,
      "outputs": [
        {
          "name": "stdout",
          "output_type": "stream",
          "text": "Accuracy = 0.7842083505580818 \t AUC = 0.1341261639057547\n"
        }
      ]
    },
    {
      "metadata": {
        "trusted": false
      },
      "cell_type": "code",
      "source": "",
      "execution_count": null,
      "outputs": []
    }
  ],
  "metadata": {
    "kernelspec": {
      "name": "python3",
      "display_name": "Python 3",
      "language": "python"
    },
    "language_info": {
      "mimetype": "text/x-python",
      "nbconvert_exporter": "python",
      "name": "python",
      "pygments_lexer": "ipython3",
      "version": "3.5.4",
      "file_extension": ".py",
      "codemirror_mode": {
        "version": 3,
        "name": "ipython"
      }
    }
  },
  "nbformat": 4,
  "nbformat_minor": 2
}