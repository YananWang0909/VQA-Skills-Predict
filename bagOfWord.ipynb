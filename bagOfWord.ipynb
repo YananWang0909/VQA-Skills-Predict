{
 "cells": [
  {
   "cell_type": "code",
   "execution_count": 1,
   "metadata": {},
   "outputs": [],
   "source": [
    "#In the prototype, we focus on \"text recognition\" only \n",
    "import pandas as pd\n",
    "import numpy as np\n",
    "from sklearn.neighbors import KNeighborsClassifier\n",
    "from sklearn.naive_bayes import GaussianNB\n",
    "from sklearn.tree import DecisionTreeClassifier\n",
    "from sklearn.svm import SVC\n",
    "from sklearn.model_selection import cross_val_score\n",
    "from sklearn.model_selection import KFold\n",
    "kfold=KFold(n_splits=10)"
   ]
  },
  {
   "cell_type": "code",
   "execution_count": 2,
   "metadata": {},
   "outputs": [
    {
     "data": {
      "text/html": [
       "<div>\n",
       "<style scoped>\n",
       "    .dataframe tbody tr th:only-of-type {\n",
       "        vertical-align: middle;\n",
       "    }\n",
       "\n",
       "    .dataframe tbody tr th {\n",
       "        vertical-align: top;\n",
       "    }\n",
       "\n",
       "    .dataframe thead th {\n",
       "        text-align: right;\n",
       "    }\n",
       "</style>\n",
       "<table border=\"1\" class=\"dataframe\">\n",
       "  <thead>\n",
       "    <tr style=\"text-align: right;\">\n",
       "      <th></th>\n",
       "      <th>QID</th>\n",
       "      <th>IMG</th>\n",
       "      <th>QSN</th>\n",
       "      <th>ANS_TYP</th>\n",
       "      <th>TXT</th>\n",
       "      <th>OBJ</th>\n",
       "      <th>COL</th>\n",
       "      <th>CNT</th>\n",
       "      <th>OTH</th>\n",
       "      <th>ANS1</th>\n",
       "      <th>ANS2</th>\n",
       "      <th>ANS3</th>\n",
       "      <th>ANS4</th>\n",
       "      <th>ANS5</th>\n",
       "      <th>ANS6</th>\n",
       "      <th>ANS7</th>\n",
       "      <th>ANS8</th>\n",
       "      <th>ANS9</th>\n",
       "      <th>ANS10</th>\n",
       "    </tr>\n",
       "  </thead>\n",
       "  <tbody>\n",
       "    <tr>\n",
       "      <th>0</th>\n",
       "      <td>VizWiz_train_000000000000.jpg</td>\n",
       "      <td>VizWiz_train_000000000000.jpg</td>\n",
       "      <td>What's the name of this product?</td>\n",
       "      <td>other</td>\n",
       "      <td>1</td>\n",
       "      <td>1</td>\n",
       "      <td>0</td>\n",
       "      <td>0</td>\n",
       "      <td>0</td>\n",
       "      <td>basil leaves</td>\n",
       "      <td>basil leaves</td>\n",
       "      <td>basil</td>\n",
       "      <td>basil</td>\n",
       "      <td>basil leaves</td>\n",
       "      <td>basil leaves</td>\n",
       "      <td>basil leaves</td>\n",
       "      <td>basil leaves</td>\n",
       "      <td>basil leaves</td>\n",
       "      <td>basil</td>\n",
       "    </tr>\n",
       "    <tr>\n",
       "      <th>1</th>\n",
       "      <td>VizWiz_train_000000000001.jpg</td>\n",
       "      <td>VizWiz_train_000000000001.jpg</td>\n",
       "      <td>Can you tell me what is in this can please?</td>\n",
       "      <td>other</td>\n",
       "      <td>1</td>\n",
       "      <td>1</td>\n",
       "      <td>0</td>\n",
       "      <td>0</td>\n",
       "      <td>0</td>\n",
       "      <td>soda</td>\n",
       "      <td>coca cola</td>\n",
       "      <td>coca cola</td>\n",
       "      <td>unsuitable</td>\n",
       "      <td>unsuitable</td>\n",
       "      <td>coke 0</td>\n",
       "      <td>coca cola 0</td>\n",
       "      <td>coke 0</td>\n",
       "      <td>coca cola</td>\n",
       "      <td>coke</td>\n",
       "    </tr>\n",
       "    <tr>\n",
       "      <th>2</th>\n",
       "      <td>VizWiz_train_000000000002.jpg</td>\n",
       "      <td>VizWiz_train_000000000002.jpg</td>\n",
       "      <td>Is this enchilada sauce or is this tomatoes?  ...</td>\n",
       "      <td>other</td>\n",
       "      <td>1</td>\n",
       "      <td>1</td>\n",
       "      <td>0</td>\n",
       "      <td>0</td>\n",
       "      <td>0</td>\n",
       "      <td>these tomatoes not enchilada sauce</td>\n",
       "      <td>tomatoes</td>\n",
       "      <td>tomatoes</td>\n",
       "      <td>tomatoes</td>\n",
       "      <td>tomatoes</td>\n",
       "      <td>crushed tomatoes</td>\n",
       "      <td>crushed tomatoes</td>\n",
       "      <td>tomatoes</td>\n",
       "      <td>tomatoes</td>\n",
       "      <td>tomatoes</td>\n",
       "    </tr>\n",
       "  </tbody>\n",
       "</table>\n",
       "</div>"
      ],
      "text/plain": [
       "                             QID                            IMG  \\\n",
       "0  VizWiz_train_000000000000.jpg  VizWiz_train_000000000000.jpg   \n",
       "1  VizWiz_train_000000000001.jpg  VizWiz_train_000000000001.jpg   \n",
       "2  VizWiz_train_000000000002.jpg  VizWiz_train_000000000002.jpg   \n",
       "\n",
       "                                                 QSN ANS_TYP  TXT  OBJ  COL  \\\n",
       "0                   What's the name of this product?   other    1    1    0   \n",
       "1        Can you tell me what is in this can please?   other    1    1    0   \n",
       "2  Is this enchilada sauce or is this tomatoes?  ...   other    1    1    0   \n",
       "\n",
       "   CNT  OTH                                ANS1          ANS2       ANS3  \\\n",
       "0    0    0                        basil leaves  basil leaves      basil   \n",
       "1    0    0                                soda     coca cola  coca cola   \n",
       "2    0    0  these tomatoes not enchilada sauce      tomatoes   tomatoes   \n",
       "\n",
       "         ANS4          ANS5              ANS6              ANS7          ANS8  \\\n",
       "0       basil  basil leaves      basil leaves      basil leaves  basil leaves   \n",
       "1  unsuitable    unsuitable            coke 0       coca cola 0        coke 0   \n",
       "2    tomatoes      tomatoes  crushed tomatoes  crushed tomatoes      tomatoes   \n",
       "\n",
       "           ANS9     ANS10  \n",
       "0  basil leaves     basil  \n",
       "1     coca cola      coke  \n",
       "2      tomatoes  tomatoes  "
      ]
     },
     "execution_count": 2,
     "metadata": {},
     "output_type": "execute_result"
    }
   ],
   "source": [
    "# reading in the CSV files as Pandas dataframes\n",
    "df_train = pd.read_csv('vizwiz_skill_typ_train.csv', skipinitialspace = True, engine='python')\n",
    "df_val = pd.read_csv('vizwiz_skill_typ_val.csv', skipinitialspace = True, engine='python')\n",
    "# The structure of VizWiz file\n",
    "df_train.head(3)"
   ]
  },
  {
   "cell_type": "code",
   "execution_count": 3,
   "metadata": {},
   "outputs": [],
   "source": [
    "#create X and Ys\n",
    "ques_train=df_train[\"QSN\"].values\n",
    "txt_train=df_train[\"TXT\"].values\n",
    "obj_train=df_train[\"OBJ\"].values\n",
    "col_train=df_train[\"COL\"].values\n",
    "cnt_train=df_train[\"CNT\"].values\n",
    "\n",
    "ques_val=df_val[\"QSN\"].values\n",
    "txt_val=df_val[\"TXT\"].values\n",
    "obj_val=df_val[\"OBJ\"].values\n",
    "col_val=df_val[\"COL\"].values\n",
    "cnt_val=df_val[\"CNT\"].values"
   ]
  },
  {
   "cell_type": "code",
   "execution_count": 4,
   "metadata": {},
   "outputs": [
    {
     "name": "stdout",
     "output_type": "stream",
     "text": [
      "{'what': 2697, 'the': 2448, 'name': 1587, 'of': 1655, 'this': 2470, 'product': 1880, 'can': 397, 'you': 2787, 'tell': 2428, 'me': 1489, 'is': 1274, 'in': 1233, 'please': 1815, 'enchilada': 857, 'sauce': 2035, 'or': 1682, 'tomatoes': 2514, 'thank': 2444, 'captcha': 419, 'on': 1668, 'screenshot': 2061, 'item': 1283, 'bottle': 316, 'color': 569, 'do': 776, 'these': 2456, 'look': 1429, 'surface': 2366, 'clean': 521, 'kind': 1327, 'drink': 812, 'skirt': 2172, 'how': 1203, 'much': 1567, 'money': 1550, 'table': 2385, 'ask': 148, 'about': 31, 'anything': 113, 'any': 109, 'information': 1244, 'without': 2735, 'taking': 2396, 'pictures': 1785, 'game': 1032, 'movie': 1565, 'see': 2078, 'piece': 1787, 'mail': 1451, 'and': 98, 'who': 2714, 'for': 980, 'picture': 1783, 'says': 2042, 'does': 781, 'box': 322, 'say': 2040, 'furniture': 1025, 'that': 2446, 'nice': 1614, 'chairs': 468, 'medication': 1499, 'just': 1310, 'like': 1400, 'to': 2506, 'know': 1343, 'if': 1226, 'there': 2453, 'label': 1348, 'dosage': 796, 'visible': 2637, 'screen': 2059, 'seasoning': 2072, 'bar': 201, 'code': 553, 'jerky': 1296, 'spice': 2254, 'card': 427, 'it': 1280, 'right': 1982, 'side': 2147, 'up': 2599, 'upside': 2604, 'down': 801, 'describe': 721, 'pattern': 1741, 'bag': 184, 'read': 1928, 'syrup': 2383, 'type': 2583, 'chips': 498, 'are': 133, 'has': 1132, 'got': 1079, 'things': 2465, 'stuff': 2337, 'flavor': 953, 'canned': 405, 'good': 1075, 'display': 771, 'called': 387, 'hi': 1169, 'speedo': 2252, 'logo': 1426, 'swimming': 2376, 'hat': 1133, 'front': 1012, 'my': 1582, 'light': 1395, 'jar': 1291, 'food': 977, 'am': 89, 'looking': 1431, 'at': 154, 'his': 1176, 'shirt': 2127, 'headphones': 1146, 'photo': 1776, 'tree': 2550, 'page': 1710, 'have': 1136, 'scanned': 2045, 'with': 2733, 'phone': 1774, 'camera': 393, 'snacks': 2197, 'thing': 2463, 'sky': 2173, 'coffee': 556, 'butter': 367, 'salted': 2022, 'unsalted': 2596, 'colors': 572, 'sweater': 2371, 've': 2618, 'changed': 470, 'turned': 2572, 'around': 139, 'make': 1453, 'expiration': 891, 'date': 691, 'out': 1696, 'now': 1640, 'whats': 2700, 'which': 2706, 'green': 1095, 'book': 303, 'soda': 2209, 'labeled': 1349, 'as': 146, 'pouch': 1852, 'tea': 2418, 'tablet': 2387, 'refrigerator': 1957, 'time': 2495, 'clock': 532, 'outside': 1700, 'juice': 1307, 'shoes': 2131, 'student': 2335, 'planner': 1802, 'popsicle': 1834, 'cd': 450, 'model': 1543, 'number': 1642, 'soap': 2206, 'image': 1228, 'jeans': 1293, 'basket': 210, 'off': 1656, 'oh': 1659, 'gevalia': 1049, 'last': 1363, 'one': 1670, 'cartridge': 437, 'black': 274, 'purple': 1897, 'alcohol': 75, 'an': 96, 'treadmill': 2548, 'distance': 774, 'miles': 1522, 'windows': 2727, 'mac': 1444, 'laptop': 1359, 'able': 30, 'show': 2140, 'description': 723, 'full': 1019, 'list': 1409, 'displayed': 772, 'brand': 327, 'menu': 1505, 'shown': 2143, 'television': 2427, 'candle': 399, 'magnesium': 1450, 'instructions': 1258, 'vitamin': 2639, 'where': 2704, 'when': 2702, 'expire': 892, 'could': 633, 'beads': 221, 'candy': 401, 'car': 424, 'shampoo': 2113, 'conditioner': 587, 'piano': 1778, 'left': 1380, 'temperature': 2431, 'currency': 673, 'hair': 1115, 'band': 197, 'scent': 2051, 'pants': 1726, 'showing': 2142, 'dressing': 810, 'magazine': 1449, 'snack': 2196, 'wall': 2655, 'cot': 630, 'granola': 1084, 'your': 2788, 'favorite': 917, 'baseball': 206, 'team': 2419, 'liquor': 1408, 'inside': 1252, 'three': 2476, 'ties': 2488, 'video': 2630, 'whizzing': 2713, 'sorry': 2227, 'didn': 746, 'work': 2749, 'did': 745, 'wanna': 2658, 'try': 2560, 'again': 61, 'moment': 1549, 'so': 2205, 'picked': 1780, 'guys': 1113, 'doing': 785, 'great': 1093, 'job': 1301, 'milk': 1523, 'sunglasses': 2354, 'reading': 1931, 'glasses': 1060, 'we': 2677, 're': 1927, 'trying': 2561, 'hopefully': 1191, 'someone': 2221, 'appreciate': 128, 'hello': 1158, 'scale': 2043, 'gray': 1090, 'dark': 688, 'medium': 1501, 'im': 1227, 'hoping': 1192, 'steps': 2297, 'took': 2519, 'uninstall': 2593, 'button': 368, 'character': 475, 'regular': 1962, 'decaffeinated': 700, 'laying': 1371, 'iphone': 1272, 'believe': 246, 'an______': 97, 'title': 2505, 'broke': 344, 'buns': 360, 'many': 1461, 'thanks': 2445, 'us': 2605, 'want': 2659, 'medicine': 1500, 'expired': 893, 'give': 1055, 'shot': 2138, 'meal': 1490, 'battery': 217, 'acid': 41, 'atleast': 157, 'printed': 1874, 'bandanna': 199, 'whipped': 2708, 'cream': 650, 'edible': 839, 'vitamins': 2640, 'specifically': 2250, 'clouds': 544, 'they': 2458, 'building': 356, 'big': 261, 'storm': 2313, 'sugar': 2345, 'wine': 2728, 'excuse': 889, 'exactly': 886, 'braille': 326, 'flowered': 966, 'blanket': 280, 'talking': 2398, 'grey': 1098, 'shape': 2114, 'belong': 248, 'taxi': 2417, 'receipt': 1940, 'yes': 2781, 'think': 2466, 'tiles': 2492, 'red': 1954, 'message': 1508, 'soup': 2231, 'cologne': 568, 'beer': 239, 'pudding': 1892, 'mix': 1538, 'period': 1768, 'chocolate': 500, 'vanilla': 2615, 'free': 999, 'print': 1873, 'directions': 761, 'kitchen': 1334, 'paper': 1727, 'clear': 526, 'text': 2441, 'pair': 1715, 'jacket': 1287, 'fan': 909, 'he': 1141, 'refried': 1956, 'beans': 223, 'take': 2393, 'sim': 2152, 'galaxy': 1030, 'nexus': 1613, 'all': 79, 'insect': 1251, 'size': 2166, 'mini': 1529, 'fans': 910, 'dog': 783, 'object': 1650, 'hey': 1168, 'washing': 2669, 'machine': 1446, 'cycle': 684, 'set': 2100, 'normal': 1630, 'permanent': 1769, 'press': 1862, 'towels': 2533, 'sanitize': 2030, 'some': 2219, 'other': 1692, 'blue': 295, 'shade': 2111, 'computer': 583, 'waiting': 2652, 'something': 2222, 'should': 2139, 'tin': 2500, 'wondering': 2744, 'salt': 2021, 'vinegar': 2634, 'pocket': 1822, 'cookies': 616, 'tracking': 2537, 'looks': 1432, 'hamburger': 1121, 'tube': 2564, 'finally': 937, 'energy': 860, 'glow': 1062, 'okay': 1664, 'pizza': 1796, 'be': 218, 'authorization': 165, 'account': 39, 'sign': 2148, 'identify': 1223, 'beyond': 258, 'telling': 2429, 'arizona': 136, 'because': 229, 'million': 1526, 'different': 749, 'flavors': 955, 'people': 1757, 'don': 789, 'seem': 2082, 'realize': 1937, 'either': 848, 'labels': 1350, 'facing': 904, 'wrong': 2771, 'way': 2674, 'fat': 915, 'packet': 1709, 'cleaner': 523, 'here': 1167, 'from': 1011, 'each': 825, 'containers': 603, 'beef': 236, 'freezer': 1000, 'channel': 471, 'tv': 2575, 'rice': 1979, 'roni': 1997, 'stones': 2309, 'necklace': 1598, 'new': 1610, 'napkin': 1589, 'those': 2472, 'dvd': 822, 'package': 1707, 'bowl': 321, 'carpet': 432, 'best': 254, 'possible': 1843, 'but': 366, 'vent': 2623, 'dinner': 756, 'container': 602, 'school': 2052, 'uniform': 2592, 'ointment': 1662, 'plant': 1803, 'wedding': 2685, 'gown': 1081, 'bed': 230, 'fruit': 1014, 'dough': 800, 'annal': 102, 'pretzels': 1865, 'boot': 309, 'order': 1684, 'devices': 737, 'back': 177, 'pack': 1706, 'carton': 435, 'let': 1387, 'makes': 1454, 'audio': 162, 'cable': 375, 'treats': 2549, 'shorts': 2136, 'yarn': 2776, 'arrows': 142, 'pointing': 1825, 'thermometer': 2454, 'adjust': 54, 'telephone': 2426, 'lap': 1357, 'pen': 1752, 'hope': 1190, 'hear': 1150, 'voice': 2643, 'pop': 1832, 'decaf': 699, 'need': 1600, 'ring': 1985, 'monitor': 1551, 'word': 2747, 'balm': 194, 'written': 2770, 'usher': 2610, 'cereal': 460, 'eating': 836, 'possibly': 1844, 'coffeemaker': 557, 'determined': 735, 'buttons': 369, 'switch': 2378, 'dinosaur': 757, 'air': 68, 'dehumidify': 712, 'conditioning': 588, 'bracelet': 324, 'onyx': 1676, 'turquoise': 2574, 'types': 2584, 'toes': 2509, 'person': 1770, 'polish': 1827, 'jimmy': 1300, 'deans': 698, 'breakfast': 331, 'sandwiches': 2029, 'lapel': 1358, 'applesauce': 125, 'cup': 667, 'appear': 119, 'blood': 291, 'stains': 2274, 'them': 2450, 'hand': 1122, 'kool': 1344, 'aid': 66, 'soups': 2232, 'akai': 69, 'deep': 707, 'penetrating': 1755, 'max': 1482, 'she': 2119, 'wearing': 2679, 'borer': 313, 'socks': 2208, 'peanut': 1745, 'wanted': 2660, 'help': 1159, 'plain': 1800, 'white': 2711, 'testing': 2440, 'case': 439, 'sure': 2365, 'not': 1633, 'obstructed': 1652, 'above': 32, 'six': 2164, 'might': 1520, 'only': 1674, 'led': 1379, 'lights': 1399, 'indicator': 1243, 'tactile': 2390, 'chili': 493, 'cheese': 487, 'fritos': 1009, 'second': 2075, 'will': 2724, 'ready': 1935, 'then': 2452, 'send': 2092, 'variety': 2616, 'place': 1797, 'automatic': 167, 'web': 2681, 'tries': 2553, 'figure': 929, 'bunch': 359, 'weather': 2680, 'ingredients': 1246, 'another': 103, 'wasn': 2670, 'recognized': 1946, 'else': 852, 'camisole': 394, 'logos': 1427, 'floor': 962, 'remote': 1965, 'paint': 1712, 'two': 2580, 'coffees': 558, 'tanzania': 2403, 'miss': 1535, 'him': 1175, 'already': 84, 'kraft': 1346, 'catalina': 445, 'class': 518, 'braclet': 325, 'ball': 189, 'wool': 2746, 'water': 2673, 'hard': 1130, 'drive': 814, 'flower': 965, 'guy': 1112, 'cane': 402, 'pills': 1790, 'direction': 760, 'flowers': 967, 'yellow': 2780, 'gold': 1071, 'design': 726, 'top': 2524, 'well': 2693, 'items': 1284, 'apple': 123, 'cinnamon': 512, 'strawberry': 2325, 'bars': 205, 'multipurpose': 1574, 'sprayer': 2266, 'names': 1588, 'tshirt': 2562, 'mug': 1571, 'perfume': 1766, 'sample': 2025, 'cleaning': 524, 'biscuits': 269, 'doll': 786, 'ipad': 1271, 'scenery': 2050, 'creamer': 651, 'meat': 1497, 'dresser': 809, 'simmer': 2153, 'chess': 490, 'keyboard': 1318, 'prominent': 1886, 'very': 2626, 'thingee': 2464, 'cards': 430, 'face': 903, 'comforter': 576, 'capris': 415, 'washer': 2668, 'answer': 104, 'use': 2607, 'asked': 149, 'was': 2665, 'even': 881, 'listen': 1411, 'come': 575, 'orientation': 1688, 'tells': 2430, 'smartphone': 2190, 'broken': 345, 'fabric': 902, 'garment': 1041, 'logging': 1424, 'tool': 2520, 'translation': 2545, 'words': 2748, 'captured': 422, 'dehumidifier': 711, 'chocolates': 501, 'mccormicks': 1487, 'enough': 863, 'further': 1026, 'get': 1047, 'closer': 537, 'note': 1634, 'vegetable': 2619, 'first': 945, 'line': 1403, 'instruction': 1257, 'manual': 1459, 'gift': 1051, 'sort': 2228, 'controller': 609, 'its': 1285, 'getting': 1048, 'blurry': 297, 'shoe': 2129, 'oatmeal': 1649, 'switches': 2380, 'dial': 739, 'bottom': 318, 'settings': 2102, 'go': 1066, 'vacuum': 2612, 'mop': 1553, 'stripes': 2334, 'club': 545, 'caffeinated': 377, 'sam': 2023, 'adam': 51, 'start': 2284, 'dishwasher': 768, 'panel': 1721, 'keys': 1320, 'key': 1317, 'row': 2009, 'lotion': 1435, 'diapers': 742, 'speakers': 2244, 'thermostat': 2455, 'mccains': 1486, 'fire': 942, 'crackers': 646, 'fireworks': 943, 'device': 736, 'registers': 1960, 'weigh': 2689, 'advance': 55, 'mouthwash': 1562, 'emblem': 853, 'fortune': 990, 'cookie': 615, 'cat': 444, 'letter': 1389, 'going': 1070, 'cause': 449, 'mixed': 1539, 'cider': 510, 'tablets': 2388, 'little': 1416, 'doors': 794, 'thick': 2460, 'speaker': 2243, 'sent': 2095, 'bill': 262, 'ipod': 1273, 'dock': 777, 'also': 86, 'question': 1908, 'vegetables': 2620, 'rain': 1917, 'test': 2439, 'works': 2755, 'asking': 150, 'ballcap': 191, 'fingers': 941, 'bus': 363, 'pass': 1731, 'watching': 2672, 'books': 306, 'shelf': 2122, 'night': 1616, 'day': 693, 'determine': 734, 'letters': 1390, 'chobani': 499, 'greek': 1094, 'yogurt': 2785, 'beter': 255, 'currently': 675, 'patter': 1740, 'salad': 2020, 'bad': 183, 'feels': 921, 'heavy': 1154, 'lettuce': 1391, 'bit': 270, 'soggy': 2215, 'trouser': 2556, 'couch': 632, 'glass': 1059, 'corn': 623, 'albert': 73, 'hold': 1181, 'babe': 175, 'iced': 1218, 'under': 2589, 'cartoon': 436, 'sheet': 2120, 'had': 1114, 'blackberries': 275, 'week': 2688, 'moldy': 1547, 'yet': 2782, 'sandal': 2027, 'clothes': 541, 'dirty': 762, 'chilli': 494, 'jumper': 1309, 'flip': 960, 'flop': 963, 'cloth': 540, 'evaporated': 880, 'country': 638, 'coin': 560, 'writing': 2769, 'febreze': 919, 'bath': 213, 'body': 299, 'bedspread': 233, 'improve': 1231, 'lighting': 1398, 'conditions': 589, 'scene': 2049, 'bakery': 187, 'boxes': 323, 'bottles': 317, 'mean': 1491, 'player': 1812, 'playing': 1813, 'somebody': 2220, 'frozen': 1013, 'savings': 2038, 'discount': 765, 'may': 1483, 'ghost': 1050, 'chief': 492, 'record': 1948, 'pane': 1720, 'etc': 879, 'silly': 2150, 'detail': 731, 'bear': 224, 'disabled': 763, 'stickers': 2302, 'were': 2695, 'buy': 370, 'axe': 174, 'deodorant': 720, 'envelope': 870, 'sodium': 2210, 'content': 605, 'pot': 1848, 'pie': 1786, 'holding': 1183, 'cigarettes': 511, 'outfit': 1697, 'match': 1477, 'material': 1480, 'contain': 600, 'chemicals': 488, 'idea': 1221, 'basically': 209, 'working': 2753, 'would': 2760, 'maybe': 1484, 'since': 2156, 'id': 1220, 'calories': 392, 'including': 1238, 'status': 2289, 'supposed': 2363, 'heater': 1153, 'made': 1448, 'long': 1428, 'cook': 612, 'microwave': 1518, 'vest': 2627, 'metal': 1511, 'square': 2268, 'celsius': 455, 'fahrenheit': 905, 'too': 2518, 'restaurant': 1975, 'ketchup': 1315, 'explain': 896, 'avon': 169, 'security': 2077, 'fifteen': 927, '15': 4, 'ice': 1217, 'ok': 1663, 'same': 2024, 'pretzel': 1864, 'protein': 1889, 'photograph': 1777, 'rug': 2012, 'conventional': 611, 'oven': 1702, 'minutes': 1534, 'cooked': 613, 'popcorn': 1833, 'contents': 606, 'tie': 2487, 'creme': 656, 'inner': 1250, 'circle': 513, 'dress': 808, 'been': 237, 'multicolors': 1573, 'ten': 2434, 'years': 2779, 'old': 1665, 'stone': 2308, 'ipa': 1270, 'smoked': 2195, 'porter': 1836, 'solve': 2218, 'guess': 1106, 'by': 371, 'lid': 1393, 'tag': 2391, 'stop': 2310, 'trouble': 2555, 'puncture': 1895, 'holes': 1184, 'film': 935, 'before': 242, 'put': 1902, 'leave': 1377, 'firm': 944, 'unpunctured': 2595, 'michelle': 1514, 'submit': 2341, 'blank': 279, 'wear': 2678, 'blouse': 293, 'soft': 2212, 'newspaper': 1611, 'crock': 660, 'setting': 2101, 'serial': 2097, 'digital': 752, 'play': 1809, 'bedsheet': 232, 'cake': 381, 'tequila': 2437, 'her': 1165, 'alone': 83, 'charge': 478, 'boat': 298, 'into': 1265, 'pregnancy': 1856, 'negative': 1604, 'lines': 1405, 'positive': 1842, 'better': 256, 'lets': 1388, 'high': 1171, 'grams': 1082, 'tried': 2552, 'once': 1669, 'measurement': 1494, 'inch': 1236, '8th': 24, '16th': 5, 'went': 2694, 'clicks': 528, 'behind': 243, 'window': 2726, 'more': 1554, 'than': 2443, 'pepper': 1758, 'particular': 1729, 'placed': 1798, 'simplify': 2154, 'following': 976, 'expression': 897, 'twelfths': 2576, 'plus': 1820, 'tenths': 2436, 'products': 1881, 'tim': 2494, 'horton': 1196, 'timothy': 2499, 'world': 2757, 'birds': 266, 'trees': 2551, 'wet': 2696, 'wonder': 2742, 'readable': 1929, 'hot': 1197, 'pockets': 1823, 'ish': 1276, 'colored': 571, 'cans': 408, 'both': 314, 'tuna': 2566, 'event': 882, 'dates': 692, 'sandwich': 2028, 'curtains': 678, 'pillow': 1789, 'music': 1577, 'gotten': 1080, 'together': 2510, 'lasagna': 1362, 'breed': 333, 'toilet': 2511, 'having': 1137, 'shirts': 2128, 'microphone': 1516, 'sour': 2233, 'detailed': 732, 'formation': 984, 'condiment': 585, 'net': 1606, 'weight': 2690, 'ballast': 190, 'point': 1824, 'crockpot': 661, 'nob': 1622, 'eat': 835, 'anywhere': 115, 'brooklyn': 346, 'stocking': 2306, 'app': 118, 'biz': 272, 'wiz': 2736, 'why': 2718, 'slow': 2186, 'mode': 1542, 'sofa': 2211, 'angled': 100, 'centered': 458, 'everything': 884, 'packages': 1708, 'bow': 320, 'contained': 601, 'write': 2766, 'pitcher': 1795, 'door': 793, 'open': 1677, 'beet': 240, 'rutabaga': 2016, 'garbled': 1038, 'brown': 348, 'clearly': 527, 'sausage': 2036, 'gum': 1110, 'drinks': 813, 'pressure': 1863, 'settle': 2103, 'score': 2057, 'sneaker': 2201, 'seeds': 2080, 'spray': 2265, 'mind': 1527, 'identifying': 1224, 'comma': 578, 'no': 1621, 'smile': 2192, 'thus': 2481, 'terms': 2438, 'highest': 1172, 'cart': 434, 'potatoes': 1850, 'radio': 1914, 'southern': 2235, 'pecan': 1750, 'hazelnut': 1139, 'chair': 467, 'mouse': 1561, 'source': 2234, 'overall': 1704, 'lined': 1404, 'find': 938, 'hit': 1178, 'jerry': 1297, 'denomination': 717, 'folder': 973, 'asian': 147, 'market': 1468, 'shop': 2133, 'whoops': 2716, 'cola': 564, 'alright': 85, 'awesome': 172, 'google': 1078, 'street': 2328, 'view': 2632, 'arrow': 141, 'ton': 2515, 'chip': 497, 'control': 608, 'setup': 2104, 'shaving': 2118, 'fish': 946, 'goldfish': 1072, 'baby': 176, 'plate': 1808, 'sweatshirt': 2373, 'tan': 2401, 'sneakers': 2202, 'morning': 1556, 'caption': 420, 'album': 74, 'watch': 2671, 'atari': 155, '2600': 10, 'macaroni': 1445, 'percent': 1763, 'download': 802, 'completed': 581, 'far': 913, 'next': 1612, 'wednesday': 2686, 'noodles': 1629, 'engine': 861, 'queen': 1906, 'clubs': 546, 'kinda': 1328, 'woman': 2738, 'wife': 2722, 'decorating': 704, 'kick': 1322, 'keurig': 1316, 'call': 386, 'space': 2237, 'creamy': 652, 'chunky': 508, 'cooking': 617, 'caterpillar': 446, 'keeps': 1313, 'closing': 539, 'after': 58, 'santa': 2032, 'claus': 520, 'ounces': 1694, 'whether': 2705, 'microsoft': 1517, 'yeah': 2777, 'company': 579, 'website': 2683, 'inaccessible': 1234, 'current': 674, 'room': 1999, 'chicken': 491, 'breast': 332, 'thighs': 2461, 'legs': 1383, 'matches': 1478, 'recycle': 1953, 'bin': 263, 'trash': 2546, 'probably': 1877, 'lunch': 1440, 'desk': 728, 'hanging': 1125, 'closet': 538, 'really': 1938, 'goodbye': 1076, 'played': 1811, 'ganics': 1035, 'bathroom': 215, 'tile': 2491, 'purpose': 1899, 'language': 1356, 'gain': 1029, 'detergent': 733, 'swing': 2377, 'area': 134, 'wood': 2745, 'frame': 997, 'completely': 582, 'coke': 562, 'over': 1703, 'corridor': 628, 'guitar': 1109, 'strings': 2331, 'acoustic': 42, 'electric': 849, 'sunset': 2358, 'bucket': 352, 'such': 2343, 'coordinated': 619, 'mechanical': 1498, 'turk': 2568, 'worker': 2751, 'volunteer': 2647, 'viz': 2641, 'curious': 672, 'capture': 421, 'ohio': 1660, 'state': 2286, 'symbol': 2382, 'through': 2478, 'theses': 2457, 'chance': 469, 'skin': 2171, 'late': 1364, 'tonight': 2517, 'answering': 105, 'questions': 1909, 'auto': 166, '12': 3, 'load': 1420, 'charm': 481, 'real': 1936, 'diet': 747, 'dr': 804, 'house': 1200, 'minus': 1532, 'aspal': 151, 'promea': 1885, 'crux': 664, 'vintage': 2635, 'stained': 2272, 'fragrance': 996, 'cellphone': 454, 'blend': 283, 'blind': 285, 'starting': 2285, 'fun': 1021, 'except': 888, 'used': 2608, 'broccoli': 342, 'cauliflower': 448, 'apartment': 116, 'messed': 1510, 'recording': 1951, 'initially': 1248, 'kc': 1311, 'pride': 1869, 'steak': 2291, 'making': 1455, 'whiskey': 2709, 'merry': 1506, 'christmas': 506, 'musical': 1578, 'instrument': 1259, 'workers': 2752, 'entertaining': 866, 'end': 858, 'napkins': 1590, 'mat': 1476, 'year': 2778, 'mark': 1465, 'purse': 1900, 'natural': 1593, 'blonde': 290, 'error': 873, 'coupon': 640, 'stale': 2276, 'sparkling': 2240, 'bubble': 351, 'wrapped': 2763, 'modem': 1544, 'purplish': 1898, 'darker': 689, 'sack': 2017, 'confused': 594, 'blinds': 286, 'womens': 2740, 'clothing': 542, 'contains': 604, 'filing': 931, 'cabinet': 373, 'cars': 433, 'beats': 227, 'shaper': 2116, 'ropes': 2002, 'chopper': 504, 'cabinets': 374, 'patch': 1737, 'countries': 637, 'nuts': 1645, 'noddle': 1623, 'indication': 1242, 'interest': 1262, '325': 13, 'turn': 2571, 'sunscreen': 2357, 'chapstick': 473, 'bug': 353, 'numbers': 1643, 'barcode': 203, 'cutter': 682, 'flipped': 961, 'ths': 2479, 'close': 535, 'style': 2340, 'sunny': 2356, 'crisps': 659, 'wash': 2666, 'part': 1728, 'indicate': 1240, 'edge': 838, 'squash': 2269, 'earrings': 831, 'expiry': 895, 'messages': 1509, 'said': 2018, 'bios': 264, 'couldn': 634, 'whole': 2715, 'olive': 1666, 'oil': 1661, 'forming': 987, 'suit': 2348, 'obtain': 1653, 'based': 207, 'tips': 2502, 'aim': 67, 'certain': 462, 'move': 1563, 'power': 1854, 'ic': 1216, 'recorder': 1950, 'bite': 271, 'man': 1456, 'math': 1481, 'problem': 1878, 'frecuency': 998, 'jacks': 1288, 'foundation': 992, 'powder': 1853, 'arm': 137, 'robert': 1992, 'downy': 803, 'jr': 1305, 'omelettes': 1667, 'articles': 143, 'still': 2304, 'qwerty': 1912, 'dvorak': 824, 'pink': 1794, 'cardigan': 429, 'mountain': 1560, 'll': 1419, 'underneath': 2590, 'sink': 2159, 'printer': 1875, 'check': 483, 'wrapping': 2765, 'bananas': 196, 'din': 755, 'ad': 50, 'theme': 2451, 'listening': 1412, 'result': 1976, 'stick': 2300, 'smiley': 2193, 'special': 2247, 'tikka': 2490, 'masala': 1474, 'actually': 49, 'doesn': 782, 'awful': 173, 'bags': 185, 'nondairy': 1627, 'season': 2071, 'digit': 751, 'corner': 625, 'blocking': 289, 'road': 1989, 'spices': 2255, 'wire': 2730, 'wd40': 2676, 'calm': 391, 'stressed': 2329, 'choice': 502, 'being': 245, 'pieces': 1788, 'tablecloth': 2386, 'small': 2187, 'nightstand': 1617, 'holder': 1182, 'navy': 1594, 'capsules': 417, 'ibuprofen': 1215, 'advil': 56, 'trousers': 2557, 'chart': 482, 'clam': 516, 'chowder': 505, 'located': 1422, 'program': 1882, 'clips': 531, 'cardboard': 428, 'cut': 680, 'ornament': 1690, 'kitty': 1336, 'fur': 1024, 'almond': 82, 'totally': 2530, 'attempting': 159, 'install': 1253, 'os': 1691, '10': 0, 'dialogue': 740, 'requiring': 1972, 'perform': 1765, 'third': 2468, 'tape': 2404, 'measure': 1493, 'nominal': 1625, 'quarter': 1904, '100': 1, 'tinned': 2501, 'unsweetened': 2598, 'semisweet': 2091, 'species': 2248, 'recipe': 1943, 'across': 43, 'chap': 472, 'greeting': 1096, 'potato': 1849, 'barbecue': 202, 'onion': 1673, 'primer': 1870, 'sony': 2226, 'capital': 413, 'truck': 2558, 'layout': 1372, 'goes': 1069, 'cover': 643, 'cumulo': 666, 'nimbus': 1619, 'templates': 2433, 'banquet': 200, 'ticket': 2484, 'pasta': 1734, 'office': 1657, '2010': 9, 'disk': 769, 'highlighter': 1174, 'tickets': 2485, 'found': 991, 'recognize': 1945, 'serving': 2099, 'snow': 2204, 'blades': 277, 'ceiling': 452, 'plantronics': 1804, 'striped': 2333, 'care': 431, 'spinach': 2257, 'coming': 577, 'beverage': 257, 'sitting': 2162, 'van': 2614, 'houtte': 1202, 'starbucks': 2282, 'volt': 2644, 'transformer': 2544, 'victor': 2629, 'login': 1425, 'wrapper': 2764, 'ones': 1671, 'um': 2587, 'cups': 670, 'bizwiz': 273, 'update': 2601, 'turns': 2573, 'receiver': 1941, 'fix': 949, 'nothing': 1637, 'happened': 1127, 'sock': 2207, 'fudge': 1018, 'thi': 2459, 'attempt': 158, 'seen': 2084, 'rock': 1993, 'present': 1860, 'win': 2725, 'polo': 1830, 'shells': 2123, 'instant': 1255, 'brew': 337, 'whose': 2717, 'song': 2225, 'handle': 1124, 'inverted': 1267, 'beautiful': 228, 'hundred': 1211, 'seventy': 2108, 'five': 948, 'degrees': 710, 'gonna': 1074, 'feedback': 920, 'colour': 573, 'markings': 1470, 'takes': 2395, 'usually': 2611, 'anybody': 110, 'folks': 974, 'locate': 1421, 'lawry': 1370, 'saids': 2019, 'benadryl': 252, 'bush': 364, 'orange': 1683, 'caffeine': 378, 'headphone': 1145, 'nail': 1585, 'sleeping': 2177, 'voucher': 2648, 'within': 2734, 'foot': 978, 'leaves': 1378, 'suggestions': 2347, 'focus': 971, 'bread': 329, 'garden': 1039, 'dryer': 818, 'combination': 574, 'cost': 629, 'boiling': 301, 'grass': 1089, 'wipes': 2729, 'grounder': 1102, 'direct': 759, 'sunlight': 2355, 'god': 1067, 'bless': 284, 'somethings': 2223, 'slacks': 2175, 'strawberries': 2324, 'doritos': 795, 'nacho': 1583, 'amount': 95, 'aware': 170, 'plentronics': 1817, 'followed': 975, 'user': 2609, 'pepsi': 1762, 'bead': 220, 'blackish': 276, 'flecks': 958, 'poster': 1847, 'coat': 550, 'cleaned': 522, 'whatpage': 2699, 'fluid': 969, 'options': 1681, 'anti': 107, 'bacterial': 182, 'defrost': 709, 'uh': 2586, 'interested': 1263, 'stairs': 2275, 'animal': 101, 'anyone': 112, 'driver': 815, 'sponsor': 2261, 'backside': 179, 'plaid': 1799, 'walker': 2654, 'crisp': 658, '2x': 11, 'sufficient': 2344, 'satellite': 2034, 'wheat': 2701, 'batteries': 216, 'aas': 26, 'least': 1376, 'playdoh': 1810, 'games': 1034, 'frequency': 1002, 'megahertz': 1502, 'switched': 2379, 'harry': 1131, 'potter': 1851, 'spanish': 2239, 'hairbrush': 1116, 'pickling': 1782, 'greetings': 1097, 'kuwait': 1347, 'away': 171, 'manufacturer': 1460, 'suspenders': 2368, 'brandon': 328, 'cassettes': 442, 'knobs': 1341, 'selectors': 2087, 'rows': 2010, 'apps': 131, 'lying': 1442, 'abandoned': 27, 'leaf': 1374, 'describing': 722, 'cushion': 679, 'fo': 970, 'native': 1592, 'american': 92, 'cases': 440, 'must': 1579, 'frustrating': 1015, 'cap': 411, 'portrait': 1838, 'vertical': 2625, 'horizontal': 1193, 'writin': 2768, 'according': 38, 'bedroom': 231, 'htis': 1207, 'robe': 1991, 'john': 1303, 'kennedy': 1314, 'laundry': 1368, 'wolfgang': 2737, 'caramel': 425, 'earbuds': 827, 'marvel': 1473, 'legends': 1381, 'peas': 1749, 'split': 2259, 'bluetooth': 296, 'zone': 2791, 'selected': 2086, 'tapestry': 2406, 'painting': 1714, 'dammit': 685, 'goddammit': 1068, 'stain': 2271, 'countdown': 635, 'timer': 2496, 'roots': 2000, 'growing': 1104, 'weiners': 2691, 'fit': 947, 'futon': 1027, 'decor': 703, 'gameboy': 1033, 'tide': 2486, 'efficiency': 841, 'low': 1436, 'breeders': 335, 'land': 1355, 'tissues': 2504, 'document': 779, 'spider': 2256, 'que': 1905, 'es': 874, 'tops': 2526, 'jars': 1292, 'ahead': 65, 'taste': 2413, 'allergic': 80, 'plan': 1801, 'patterns': 1742, 'dice': 743, 'hemp': 1164, 'actual': 48, 'bumps': 358, 'stove': 2317, 'mess': 1507, 'statue': 2288, 'past': 1733, 'wonderful': 2743, 'application': 126, 'turmeric': 2570, 'happen': 1126, 'dusty': 820, 'rose': 2004, 'onesie': 1672, 'stumbling': 2339, 'plays': 1814, 'girlfriends': 1054, 'fleas': 957, 'ground': 1101, 'turkey': 2569, 'reader': 1930, 'wires': 2731, 'background': 178, 'ugg': 2585, 'worked': 2750, 'afraid': 57, 'ruined': 2013, 'finger': 940, 'bleeding': 282, 'lot': 1434, 'eggnog': 843, 'thread': 2475, 'absolutely': 33, 'proper': 1887, 'bookshelf': 307, 'pin': 1791, 'grapefruit': 1086, 'bugs': 354, 'shower': 2141, 'gel': 1046, 'hdmi': 1140, 'port': 1835, 'hookup': 1189, 'mint': 1530, 'nascar': 1591, 'bark': 204, 'maple': 1463, 'specific': 2249, 'grayish': 1092, 'whenever': 2703, 'characters': 476, 'plants': 1805, 'marker': 1467, 'never': 1609, 'broth': 347, 'suitcase': 2349, 'staying': 2290, 'rise': 1986, 'hotel': 1198, 'flag': 950, 'moved': 1564, 'tomato': 2513, 'designs': 727, '32': 12, '64': 21, 'version': 2624, 'dogs': 784, 'heads': 1147, 'tails': 2392, 'charcoals': 477, 'railing': 1916, 'mineral': 1528, 'knight': 1339, 'specify': 2251, 'decode': 702, 'closed': 536, 'eye': 900, 'price': 1867, 'meter': 1512, 'mints': 1531, 'disc': 764, 'mild': 1521, 'sausages': 2037, 'xbox': 2773, 'hoarding': 1179, 'lemon': 1384, 'mate': 1479, 'pineapple': 1793, 'chunks': 507, 'cantaloupe': 409, 'vizwiz': 2642, 'given': 1056, 'rather': 1924, 'large': 1361, 'presents': 1861, 'birthday': 267, 'abd': 28, 'difficulty': 750, 'twice': 2579, 'balls': 193, 'supplement': 2361, 'regina': 1958, 'alvarado': 88, 'study': 2336, 'flour': 964, 'four': 994, 'related': 1963, 'sweat': 2370, 'horse': 1195, 'skewed': 2169, 'sand': 2026, 'dollar': 787, 'stuffed': 2338, 'cherry': 489, 'peppers': 1761, 'garlic': 1040, 'noodle': 1628, 'electronic': 851, 'fountain': 993, 'plaque': 1806, 'wild': 2723, 'rocky': 1995, 'canyon': 410, 'river': 1988, 'dew': 738, 'lamp': 1354, 'scarf': 2048, 'silver': 2151, 'whatever': 2698, 'kindly': 1329, 'clip': 530, 'indicates': 1241, 'today': 2508, 'queens': 1907, 'head': 1143, 'fifty': 928, 'cent': 456, 'blu': 294, 'ray': 1926, 'acceptable': 35, 'springtime': 2267, 'pain': 1711, 'killers': 1325, 'belongs': 249, 'legible': 1382, 'rotate': 2005, 'hockey': 1180, 'puck': 1891, 'drier': 811, 'knot': 1342, 'cage': 379, 'anymore': 111, 'tennis': 2435, 'electrical': 850, 'vault': 2617, 'clash': 517, 'seagate': 2069, 'pamphlet': 1717, 'pm': 1821, 'tylenol': 2582, 'ensure': 864, 'most': 1557, 'touching': 2531, 'brownie': 349, 'helping': 1162, 'teaser': 2421, 'basketball': 211, 'football': 979, 'oval': 1701, 'campbell': 396, 'history': 1177, 'surroundings': 2367, 'beeded': 235, 'bean': 222, 'tooth': 2521, 'paste': 1735, 'brush': 350, 'teeth': 2423, 'khaki': 1321, 'nails': 1586, 'bathrobe': 214, 'images': 1229, 'towel': 2532, 'public': 1890, 'compared': 580, 'required': 1971, 'preparation': 1857, 'scanner': 2046, 'obviously': 1654, 'recorded': 1949, 'tossimo': 2528, 'moving': 1566, 'cooker': 614, 'position': 1840, 'knob': 1340, 'calendar': 385, 'booklet': 305, 'jewelry': 1299, 'fax': 918, 'greyest': 1099, 'biscuit': 268, 'tis': 2503, 'lightening': 1396, 'nut': 1644, 'intolerance': 1266, 'condition': 586, 'phones': 1775, 'huge': 1208, 'starlight': 2283, 'spearmint': 2246, 'city': 515, 'fleece': 959, 'marie': 1464, 'callender': 389, 'domination': 788, 'noise': 1624, 'emphasized': 855, 'correctly': 627, 'measures': 1495, 'fiber': 926, 'rectangular': 1952, 'backup': 180, 'doe': 780, 'calculator': 384, 'situation': 2163, 'fine': 939, 'sixteen': 2165, 'half': 1119, 'seventeen': 2107, 'sword': 2381, 'voltage': 2645, 'adapter': 52, 'kinds': 1330, 'seems': 2083, 'mayonnaise': 1485, 'mustard': 1580, 'consuming': 598, 'raise': 1918, 'absorption': 34, 'stream': 2327, 'cordillius': 621, 'carbon': 426, 'hydrate': 1213, 'lime': 1402, 'easily': 833, 'toy': 2535, 'joking': 1304, 'brewer': 338, 'temperatures': 2432, 'toppings': 2525, 'eyes': 901, 'station': 2287, 'granulated': 1085, 'happens': 1128, 'qr': 1903, 'reads': 1934, 'unknown': 2594, 'tossamo': 2527, 'gross': 1100, 'curry': 676, 'cds': 451, 'trail': 2539, 'confuse': 593, 'oreos': 1686, 'capacity': 412, 'refillable': 1955, 'indian': 1239, 'stewed': 2299, 'peeled': 1751, 'push': 1901, 'muffin': 1569, 'certificate': 464, 'rosary': 2003, 'quick': 1910, 'issue': 1278, 'correct': 626, 'russel': 2015, 'stover': 2318, 'curey': 671, 'bop': 312, 'softener': 2213, 'nachos': 1584, 'sea': 2067, 'frustration': 1016, 'stovetop': 2319, 'done': 790, 'guide': 1107, 'booster': 308, 'dell': 715, 'farther': 914, 'hp': 1206, 'desktop': 729, 'wallet': 2656, 'roadhouse': 1990, 'candles': 400, 'tongue': 2516, 'instead': 1256, 'held': 1156, 'mushrooms': 1576, 'chinos': 496, 'atch': 156, 'taquitos': 2408, 'contraption': 607, 'breeder': 334, 'highlighted': 1173, 'example': 887, 'operating': 1678, 'system': 2384, 'run': 2014, 'value': 2613, 'dish': 767, 'delete': 713, 'keypad': 1319, 'snap': 2199, 'milligrams': 1524, 'lemonade': 1385, 'schwans': 2054, 'steaks': 2292, 'sin': 2155, 'moisturizing': 1545, 'prices': 1868, 'burritos': 362, 'blinking': 287, 'backwards': 181, 'stormy': 2314, 'sending': 2093, 'reason': 1939, 'coal': 549, 'gives': 1057, 'dangerous': 687, 'motexting': 1558, 'sleeve': 2178, 'isn': 1277, 'dip': 758, 'easter': 834, 'bird': 265, 'opinion': 1679, 'path': 1739, 'sweets': 2375, 'accessible': 36, 'seeing': 2081, 'cassette': 441, 'sorta': 2229, 'craft': 647, 'ist': 1279, 'das': 690, 'saying': 2041, 'altoids': 87, 'tee': 2422, 'holiday': 1185, 'peanuts': 1747, 'cartridges': 438, 'cappuccino': 414, 'latte': 1366, 'against': 62, 'track': 2536, 'descriptions': 724, 'liquid': 1407, 'famous': 908, 'friday': 1004, 'itch': 1282, 'nicole': 1615, 'exact': 885, 'shelves': 2124, 'appeared': 120, 'burger': 361, 'cuz': 683, 'beep': 238, 'tel': 2425, 'bought': 319, 'martin': 1472, 'kirtner': 1332, 'interview': 1264, 'scissors': 2056, 'stegosaurus': 2295, 'recognizers': 1947, 'pick': 1779, 'worth': 2759, 'tapioca': 2407, 'tank': 2402, 'sticker': 2301, 'women': 2739, 'men': 1504, '500': 20, 'seller': 2090, 'told': 2512, 'strand': 2321, 'pearls': 1748, 'often': 1658, 'whiz': 2712, 'banana': 195, 'however': 1204, 'quite': 1911, 'fantastic': 912, 'certainly': 463, 'fault': 916, 'installing': 1254, 'approximately': 130, 'formatting': 986, 'process': 1879, 'jump': 1308, 'single': 2158, 'double': 798, 'isbn': 1275, 'girl': 1053, 'flavored': 954, 'handbag': 1123, 'fluffy': 968, 'panting': 1724, 'standing': 2280, 'stereo': 2298, 'taken': 2394, 'pine': 1792, 'traffic': 2538, '405': 18, 'though': 2473, 'missed': 1536, 'portion': 1837, 'envelopes': 871, 'pay': 1744, 'attention': 160, 'mixer': 1540, 'thinking': 2467, 'crash': 648, 'saw': 2039, 'crashed': 649, 'hurt': 1212, 'writes': 2767, 'cool': 618, 'level': 1392, 'measuring': 1496, 'wrap': 2762, 'likes': 1401, 'acts': 47, 'wants': 2662, 'drain': 807, 'unseen': 2597, 'amongst': 94, 'gatorades': 1044, 'few': 924, 'gatorade': 1043, 'dessert': 730, 'classic': 519, 'hummus': 1210, 'story': 2315, 'baked': 186, 'eighths': 847, 'decimal': 701, 'pan': 1718, 'wait': 2651, 'rubber': 2011, 'screensaver': 2060, 'updates': 2602, 'stopped': 2311, 'speaking': 2245, 'hiding': 1170, 'ham': 1120, 'graphics': 1088, 'fridge': 1005, 'emerson': 854, 'helper': 1160, 'meant': 1492, 'needed': 1601, 'puffy': 1893, 'cloud': 543, 'thin': 2462, 'shaped': 2115, 'lara': 1360, 'hairy': 1118, 'collar': 566, 'readout': 1933, 'jersey': 1298, 'pro': 1876, 'sports': 2262, 'cafe': 376, 'nero': 1605, 'nyquil': 1646, 'daytime': 695, 'nighttime': 1618, 'formula': 988, 'registration': 1961, 'zero': 2790, 'postage': 1846, 'stamps': 2277, 'headband': 1144, 'cupboard': 668, 'stouffers': 2316, 'curtain': 677, 'glucosamine': 1063, 'capsule': 416, 'hydrite': 1214, 'sulphide': 2350, 'skills': 2170, 'ninety': 1620, 'times': 2497, 'belt': 251, 'thursday': 2480, 'lean': 1375, 'cuisines': 665, 'hats': 1135, 'counter': 636, 'creature': 654, 'washed': 2667, 'shore': 2134, 'upper': 2603, 'self': 2088, 'rising': 1987, 'lowest': 1438, 'wrote': 2772, 'gas': 1042, 'hawaiian': 1138, 'damn': 686, 'remove': 1967, 'alarm': 70, 'alex': 77, 'tar': 2409, 'stack': 2270, 'zoom': 2792, 'solid': 2217, 'represent': 1969, 'feet': 922, 'mold': 1546, 'listed': 1410, 'chain': 466, 'task': 2411, 'canola': 407, 'available': 168, 'toothpaste': 2522, 'spaghetti': 2238, 'thought': 2474, 'gave': 1045, 'cats': 447, 'stray': 2326, 'walked': 2653, 'beach': 219, 'wieners': 2721, 'blah': 278, 'sun': 2352, 'sweats': 2372, 'tassimo': 2412, 'sunblock': 2353, 'dietary': 748, 'discribe': 766, 'exercise': 890, 'kid': 1323, 'angle': 99, 'decorations': 705, 'north': 1631, '400': 17, 'talk': 2397, 'cork': 622, 'extremely': 899, 'violent': 2636, 'ends': 859, 'funny': 1023, 'sorts': 2230, 'answers': 106, 'wouldn': 2761, 'ramen': 1920, 'everybody': 883, 'aren': 135, 'mobile': 1541, 'cold': 565, 'hea': 1142, 'thy': 2482, 'region': 1959, 'pertinent': 1771, 'fresh': 1003, 'length': 1386, 'twenty': 2578, 'philosophy': 1773, 'sequence': 2096, 'muesli': 1568, 'raging': 1915, 'boil': 300, 'callendar': 388, 'digits': 753, 'fanta': 911, 'heck': 1155, 'soy': 2236, 'cocoa': 552, 'seafood': 2068, 'hearty': 1151, 'crab': 645, 'cakes': 382, 'circles': 514, 'foil': 972, 'chargers': 480, 'plugged': 1819, 'outlet': 1698, 'entree': 869, 'dented': 719, 'bright': 340, 'rider': 1981, 'needle': 1602, 'beat': 226, 'whispy': 2710, 'ports': 1839, 'ways': 2675, 'ink': 1249, 'eggs': 844, 'snickers': 2203, 'mars': 1471, 'volume': 2646, 'alarms': 72, 'sir': 2160, 'cheddar': 486, 'micro': 1515, 'sd': 2066, 'pantry': 1725, 'pens': 1756, 'wanting': 2661, 'amazing': 90, 'rocks': 1994, 'deserve': 725, 'hell': 1157, 'jug': 1306, 'applications': 127, 'scanning': 2047, 'doubt': 799, 'pom': 1831, 'understand': 2591, 'scan': 2044, 'roof': 1998, 'straps': 2323, 'log': 1423, 'smithing': 2194, 'early': 830, '50': 19, 'perhaps': 1767, 'earlier': 829, 'york': 2786, 'mute': 1581, 'yo': 2783, 'koolaid': 1345, 'town': 2534, 'tilex': 2493, 'particulars': 1730, 'colorblind': 570, 'workout': 2754, '103': 2, 'confirmed': 592, 'tuned': 2567, 'entirely': 868, 'icee': 1219, 'filter': 936, 'apples': 124, 'our': 1695, 'captures': 423, 'roughly': 2007, 'melatonin': 1503, 'vicodin': 2628, 'lamb': 1353, 'confirm': 591, 'sloppy': 2184, 'joe': 1302, 'earth': 832, 'wish': 2732, 'post': 1845, 'spelled': 2253, 'won': 2741, 'method': 1513, 'ottoman': 1693, 'definitely': 708, 'fillets': 933, 'gallon': 1031, 'jello': 1294, 'sit': 2161, 'controls': 610, 'goods': 1077, 'covering': 644, 'coffe': 555, 'sanitizer': 2031, 'sleep': 2176, 'scripts': 2065, 'shapes': 2117, 'tic': 2483, 'tacs': 2389, 'invisible': 1268, 'fourth': 995, 'audiobook': 163, 'reckon': 1944, 'allergy': 81, 'create': 653, 'gmail': 1065, 'keep': 1312, 'entering': 865, 'caiaphas': 380, 'assistance': 153, 'donut': 792, 'especially': 875, 'china': 495, 'shows': 2144, 'linxsys': 1406, 'candies': 398, 'brela': 336, 'camouflaged': 395, 'silk': 2149, 'assembly': 152, 'upc': 2600, 'stella': 2296, 'main': 1452, 'vox': 2649, 'apron': 132, 'cornbread': 624, 'stapler': 2281, 'flash': 951, 'bye': 372, 'dry': 817, 'laid': 1352, 'tub': 2563, 'draft': 805, 'action': 44, 'rope': 2001, 'tray': 2547, 'ehm': 845, 'inches': 1237, 'tall': 2399, 'coca': 551, 'middle': 1519, 'int': 1261, 'looked': 1430, 'plug': 1818, 'amazon': 91, 'clue': 547, 'friends': 1007, 'laughing': 1367, '17': 6, '34': 14, 'equals': 872, 'seven': 2106, 'dropped': 816, 'usb': 2606, 'cannot': 406, 'shoelaces': 2130, 'address': 53, 'near': 1595, 'yard': 2775, 'somewhere': 2224, 'arms': 138, 'tootsie': 2523, 'tattoo': 2415, 'original': 1689, 'kl': 1337, 'nostra': 1632, 'twelve': 2577, 'clockwise': 533, 'readings': 1932, 'tapes': 2405, 'needs': 1603, 'repair': 1968, 'jail': 1289, 'break': 330, 'sponges': 2260, 'dont': 791, 'thats': 2447, 'software': 2214, 'preggo': 1855, 'mango': 1458, 'percentage': 1764, 'foreman': 981, 'gone': 1073, 'formatted': 985, 'broad': 341, 'bookcase': 304, 'slit': 2183, 'bump': 357, 'raised': 1919, 'dot': 797, 'serve': 2098, 'king': 1331, 'mcdonald': 1488, 'fully': 1020, 'business': 365, 'casual': 443, 'fence': 923, '20': 8, 'luggage': 1439, 'spotted': 2264, 'spots': 2263, 'shut': 2145, 'littlest': 1417, 'smallest': 2188, 'tasty': 2414, 'credit': 655, 'sheets': 2121, 'smart': 2189, 'crumbs': 662, 'seats': 2074, 'checks': 485, 'th': 2442, 'brief': 339, 'cell': 453, 'shin': 2125, 'lunchable': 1441, 'below': 250, 'minute': 1533, 'espresso': 876, 'knee': 1338, 'nugget': 1641, 'grapes': 1087, 'healthy': 1149, 'neat': 1596, 'jalapenos': 1290, 'liters': 1415, 'timing': 2498, 'suppose': 2362, 'transcribe': 2543, 'kidney': 1324, 'multi': 1572, 'pringles': 1872, 'apologize': 117, 'ravioli': 1925, 'stand': 2278, 'standard': 2279, 'summary': 2351, 'central': 459, 'ty': 2581, 'sees': 2085, 'ace': 40, 'lighter': 1397, 'kitten': 1335, 'marking': 1469, 'happy': 1129, 'climbing': 529, 'vine': 2633, 'puppy': 1896, 'clogs': 534, 'anyway': 114, 'pam': 1716, 'panties': 1723, 'rihanna': 1984, 'visually': 2638, 'impaired': 1230, 'crew': 657, 'garbanzo': 1037, 'marked': 1466, 'entire': 867, 'ballerinas': 192, 'alarmed': 71, 'choosing': 503, 'ya': 2774, 'lit': 1414, 'pencils': 1754, 'crunchy': 663, 'life': 1394, 'seat': 2073, 'sell': 2089, 'checking': 484, 'household': 1201, 'cleanser': 525, 'smells': 2191, 'ammonia': 93, 'dragon': 806, 'kilobars': 1326, 'wide': 2720, 'labled': 1351, 'webcam': 2682, 'option': 1680, 'manage': 1457, 'uncrinkle': 2588, 'boots': 311, 'missing': 1537, 'calls': 390, 'globe': 1061, 'italian': 1281, 'speak': 2242, 'workstation': 2756, 'progress': 1883, 'ingredient': 1245, 'denominator': 718, '36x32s': 15, 'transcendent': 2542, 'ranch': 1921, 'pavement': 1743, 'fallen': 906, 'expires': 894, 'family': 907, 'listerine': 1413, 'functions': 1022, 'hows': 1205, 'connectors': 596, 'flat': 952, 'rate': 1923, 'shadow': 2112, 'berries': 253, 'grown': 1105, 'netherlands': 1607, 'steamer': 2293, 'espressp': 877, 'pant': 1722, 'worn': 2758, 'several': 2109, 'bolognese': 302, 'den': 716, 'oreo': 1685, 'booting': 310, 'friend': 1006, 'gingerbread': 1052, 'instruments': 1260, 'english': 862, 'singer': 2157, 'disney': 770, 'straight': 2320, 'slipper': 2181, 'codes': 554, 'gluten': 1064, 'sizes': 2167, 'polishes': 1829, 'neutral': 1608, 'short': 2135, 'giving': 1058, 'necessarily': 1597, 'dull': 819, 'inhaler': 1247, 'response': 1974, 'effects': 840, 'canisters': 404, 'prepare': 1858, 'tobacco': 2507, 'cottage': 631, 'cereals': 461, 'ebook': 837, 'distinguish': 775, 'forte': 989, 'positions': 1841, 'active': 45, 'lizard': 1418, 'fuck': 1017, 'io': 1269, 'map': 1462, 'artificial': 144, 'mom': 1548, 'earing': 828, 'neckless': 1599, 'machines': 1447, 'bleached': 281, 'grow': 1103, 'lysol': 1443, 'polished': 1828, 'password': 1732, 'course': 641, 'seasalt': 2070, 'charger': 479, 'collared': 567, 'pickles': 1781, 'roll': 1996, 'pastry': 1736, 'horizontally': 1194, 'arranged': 140, 'alfredo': 78, 'while': 2707, 'figured': 930, 'shoot': 2132, 'seed': 2079, 'ear': 826, 'connection': 595, 'muffins': 1570, 'schwan': 2053, 'egg': 842, 'massage': 1475, 'stock': 2305, 'bid': 260, '68': 22, 'peppermill': 1759, 'tarts': 2410, 'esto': 878, 'ive': 1286, 'actor': 46, 'block': 288, 'delicate': 714, '____': 25, 'antique': 108, 'slippers': 2182, 'lowery': 1437, 'vehicle': 2621, 'slot': 2185, 'flavour': 956, 'string': 2330, 'radiator': 1913, 'coil': 559, 'herb': 1166, 'doctor': 778, 'hollister': 1186, 'abercrombie': 29, 'inaudible': 1235, 'grayest': 1091, 'heat': 1152, '375': 16, 'cute': 681, 'beige': 244, 'appearing': 121, 'tamales': 2400, 'seuss': 2105, 'build': 355, 'properly': 1888, 'ranges': 1922, 'chute': 509, 'jelly': 1295, 'lcd': 1373, 'weed': 2687, 'decorative': 706, 'screwed': 2063, 'skype': 2174, 'true': 2559, 'slices': 2179, 'scientific': 2055, 'rotten': 2006, 'yucky': 2789, 'french': 1001, 'fries': 1008, 'veil': 2622, 'snapple': 2200, 'tuck': 2565, 'improvement': 1232, 'overalls': 1705, 'aftershave': 60, 'milliliters': 1525, 'guinness': 1108, 'patching': 1738, 'garage': 1036, 'splashed': 2258, 'notice': 1638, 'painted': 1713, 'co': 548, 'monoxide': 1552, 'pleases': 1816, '7up': 23, 'their': 2449, 'appears': 122, 'scree': 2058, 'lavender': 1369, 'chai': 465, 'shortwave': 2137, 'skein': 2168, 'train': 2541, 'future': 1028, 'filling': 934, 'bandana': 198, 'results': 1977, 'suzanne': 2369, 'roux': 2008, 'spatula': 2241, 'baking': 188, 'basic': 208, 'aunts': 164, 'pet': 1772, 'copy': 620, 'captain': 418, 'morgan': 1555, 'triple': 2554, 'hours': 1199, 'script': 2064, 'prescription': 1859, 'duvet': 821, 'appropriate': 129, 'court': 642, 'attire': 161, 'sticky': 2303, 'notes': 1636, 'sends': 2094, 'expressions': 898, '1730': 7, 'subtract': 2342, 'princess': 1871, 'rightside': 1983, 'helpful': 1161, 'resetting': 1973, 'concerned': 584, 'formal': 983, 'later': 1365, 'shiny': 2126, 'batch': 212, 'honey': 1188, 'webworker': 2684, 'previous': 1866, 'super': 2360, 'hairpiece': 1117, 'hatched': 1134, 'pepperoni': 1760, 'objects': 1651, 'removal': 1966, 'bother': 315, 'dials': 741, 'age': 63, 'walls': 2657, 'tights': 2489, 'pencil': 1753, 'waffles': 2650, 'mushroom': 1575, 'poisonous': 1826, 'yogi': 2784, 'bedtime': 234, 'stomach': 2307, 'relaxation': 1964, 'section': 2076, 'reproduce': 1970, 'videogames': 2631, 'ribbon': 1978, 'disregard': 773, 'dvds': 823, 'human': 1209, 'ware': 2663, 'bell': 247, 'de': 696, 'gummy': 1111, 'bears': 225, 'peanutbutter': 1746, 'headset': 1148, 'empty': 856, 'frock': 1010, 'ricearoni': 1980, 'recessed': 1942, 'non': 1626, 'alcoholic': 76, 'motor': 1559, 'calculation': 383, 'agenda': 64, 'eight': 846, 'thirty': 2469, 'sarong': 2033, 'teh': 2424, 'canister': 403, 'project': 1884, 'onto': 1675, 'wi': 2719, 'fi': 925, 'total': 2529, 'identified': 1222, 'suggest': 2346, 'granite': 1083, 'sold': 2216, 'afternoon': 59, 'screw': 2062, 'orient': 1687, 'coins': 561, 'dimensions': 754, 'lost': 1433, 'trailer': 2540, 'shutters': 2146, 'pictured': 1784, 'helps': 1163, 'kit': 1333, 'deal': 697, 'notifications': 1639, 'accidentally': 37, 'form': 982, 'filled': 932, 'homestyle': 1187, 'diced': 744, 'col': 563, 'ie': 1225, 'char': 474, 'pull': 1894, 'outs': 1699, 'contact': 599, 'center': 457, 'oak': 1648, 'brochure': 343, 'bibsy': 259, 'slip': 2180, 'blotches': 292, 'throat': 2477, 'plastic': 1807, 'tax': 2416, 'supreme': 2364, 'strip': 2332, 'counts': 639, 'panda': 1719, 'suntan': 2359, 'strap': 2322, 'thong': 2471, 'conference': 590, 'beets': 241, 'stainless': 2273, 'steel': 2294, 'cupcake': 669, 'sweden': 2374, 'severing': 2110, 'consist': 597, 'artist': 145, 'snake': 2198, 'weird': 2692, 'store': 2312, 'tease': 2420, 'noted': 1635, 'warm': 2664, 'dayquil': 694, 'nyqyl': 1647}\n"
     ]
    }
   ],
   "source": [
    "#bag of words\n",
    "from sklearn.feature_extraction.text import CountVectorizer\n",
    "#do not move stopwords as they are possibly important\n",
    "#count=CountVectorizer(stop_words='english')\n",
    "count=CountVectorizer()\n",
    "bag_train=count.fit_transform(ques_train)#create vocabulary\n",
    "bag_val=count.transform(ques_val)\n",
    "print(count.vocabulary_)"
   ]
  },
  {
   "cell_type": "code",
   "execution_count": 5,
   "metadata": {},
   "outputs": [],
   "source": [
    "quesBOWFeatures_train=bag_train.toarray()\n",
    "quesBOWFeatures_val=bag_val.toarray()"
   ]
  },
  {
   "cell_type": "code",
   "execution_count": 6,
   "metadata": {},
   "outputs": [],
   "source": [
    "#TF-IDF\n",
    "from sklearn.feature_extraction.text import TfidfTransformer\n",
    "tfidf=TfidfTransformer(use_idf=True,\n",
    "                      norm= 'l2',\n",
    "                      smooth_idf=True)\n",
    "np.set_printoptions(precision=2)\n",
    "tfidfResultTrain=tfidf.fit_transform(bag_train)\n",
    "tfidfResultVal=tfidf.transform(bag_val)"
   ]
  },
  {
   "cell_type": "code",
   "execution_count": 7,
   "metadata": {},
   "outputs": [
    {
     "name": "stdout",
     "output_type": "stream",
     "text": [
      "(14269, 2793)\n",
      "(2251, 2793)\n"
     ]
    }
   ],
   "source": [
    "quesTFIDFFeatures_train=tfidfResultTrain.toarray()\n",
    "quesTFIDFFeatures_val=tfidfResultVal.toarray()\n",
    "print(quesTFIDFFeatures_train.shape)\n",
    "print(quesTFIDFFeatures_val.shape)"
   ]
  },
  {
   "cell_type": "code",
   "execution_count": 9,
   "metadata": {},
   "outputs": [
    {
     "name": "stdout",
     "output_type": "stream",
     "text": [
      "Guassian Naive Bayes\n",
      "Test Score:0.51\n",
      "\n",
      "SVM\n",
      "Test Score:0.59\n",
      "Tree\n",
      "Test Score:0.78\n"
     ]
    }
   ],
   "source": [
    "#Try several models to predict\n",
    "#X is question features, Y is whether it need text recognition\n",
    "NaiveBayes=GaussianNB()\n",
    "KNN=KNeighborsClassifier()\n",
    "SVM=SVC()\n",
    "Tree=DecisionTreeClassifier()\n",
    "\n",
    "#fold_accuracies=cross_val_score(NaiveBayes,quesTFIDFFeatures_train,txt_train,cv=kfold)\n",
    "NaiveBayes.fit(quesTFIDFFeatures_train,txt_train)\n",
    "testScore=NaiveBayes.score(quesTFIDFFeatures_val,txt_val)\n",
    "print(\"Guassian Naive Bayes\")\n",
    "#print(\"Cross-validation Score:\\n{}\".format(fold_accuracies))\n",
    "#print(\"Average cross-validation Score:{:.2f}\".format(fold_accuracies.mean()))\n",
    "print(\"Test Score:{:.2f}\\n\".format(testScore))\n",
    "\n",
    "#fold_accuracies=cross_val_score(SVM,quesTFIDFFeatures_train,txt_train,cv=kfold)\n",
    "SVM.fit(quesTFIDFFeatures_train,txt_train)\n",
    "testScore=SVM.score(quesTFIDFFeatures_val,txt_val)\n",
    "print(\"SVM\")\n",
    "#print(\"Cross-validation Score:\\n{}\".format(fold_accuracies))\n",
    "#print(\"Average cross-validation Score:{:.2f}\".format(fold_accuracies.mean()))\n",
    "print(\"Test Score:{:.2f}\".format(testScore))\n",
    "\n",
    "\n",
    "#fold_accuracies=cross_val_score(Tree,quesTFIDFFeatures_train,txt_train,cv=kfold)\n",
    "Tree.fit(quesTFIDFFeatures_train,txt_train)\n",
    "testScore=Tree.score(quesTFIDFFeatures_val,txt_val)\n",
    "print(\"Tree\")\n",
    "#print(\"Cross-validation Score:\\n{}\".format(fold_accuracies))\n",
    "#print(\"Average cross-validation Score:{:.2f}\".format(fold_accuracies.mean()))\n",
    "print(\"Test Score:{:.2f}\".format(testScore))"
   ]
  },
  {
   "cell_type": "code",
   "execution_count": 10,
   "metadata": {},
   "outputs": [
    {
     "name": "stdout",
     "output_type": "stream",
     "text": [
      "KNN\n",
      "Test Score:0.76\n"
     ]
    }
   ],
   "source": [
    "#fold_accuracies=cross_val_score(KNN,quesTFIDFFeatures_train,txt_train,cv=kfold)\n",
    "KNN.fit(quesTFIDFFeatures_train,txt_train)\n",
    "testScore=KNN.score(quesTFIDFFeatures_val,txt_val)\n",
    "print(\"KNN\")\n",
    "#print(\"Cross-validation Score:\\n{}\".format(fold_accuracies))\n",
    "#print(\"Average cross-validation Score:{:.2f}\".format(fold_accuracies.mean()))\n",
    "print(\"Test Score:{:.2f}\".format(testScore))"
   ]
  },
  {
   "cell_type": "code",
   "execution_count": null,
   "metadata": {},
   "outputs": [],
   "source": []
  }
 ],
 "metadata": {
  "kernelspec": {
   "display_name": "Python 3.6 - AzureML",
   "language": "python",
   "name": "python3-azureml"
  },
  "language_info": {
   "codemirror_mode": {
    "name": "ipython",
    "version": 3
   },
   "file_extension": ".py",
   "mimetype": "text/x-python",
   "name": "python",
   "nbconvert_exporter": "python",
   "pygments_lexer": "ipython3",
   "version": "3.6.6"
  }
 },
 "nbformat": 4,
 "nbformat_minor": 2
}
